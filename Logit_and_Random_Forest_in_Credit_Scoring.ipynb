{
  "nbformat": 4,
  "nbformat_minor": 0,
  "metadata": {
    "anaconda-cloud": {},
    "kernelspec": {
      "display_name": "Python 3",
      "language": "python",
      "name": "python3"
    },
    "language_info": {
      "codemirror_mode": {
        "name": "ipython",
        "version": 3
      },
      "file_extension": ".py",
      "mimetype": "text/x-python",
      "name": "python",
      "nbconvert_exporter": "python",
      "pygments_lexer": "ipython3",
      "version": "3.5.2"
    },
    "colab": {
      "name": "Logit_and_Random_Forest_in_Credit_Scoring.ipynb",
      "provenance": [],
      "collapsed_sections": [],
      "include_colab_link": true
    }
  },
  "cells": [
    {
      "cell_type": "markdown",
      "metadata": {
        "id": "view-in-github",
        "colab_type": "text"
      },
      "source": [
        "<a href=\"https://colab.research.google.com/github/ashish42/MachineLearningPython/blob/master/Logit_and_Random_Forest_in_Credit_Scoring.ipynb\" target=\"_parent\"><img src=\"https://colab.research.google.com/assets/colab-badge.svg\" alt=\"Open In Colab\"/></a>"
      ]
    },
    {
      "cell_type": "markdown",
      "metadata": {
        "_uuid": "8ee7a49a7c8da9ec43efb705fb75ef889133c9d6",
        "id": "bwkhdQZO3Y3c",
        "colab_type": "text"
      },
      "source": [
        "\n",
        "## <center>Logistic Regression and Random Forest in the credit scoring problem  "
      ]
    },
    {
      "cell_type": "markdown",
      "metadata": {
        "_uuid": "3eca8c6802b80517b3bc9e15bde1a7ea556678fb",
        "id": "8HZ0IKow3Y3i",
        "colab_type": "text"
      },
      "source": [
        "## Credit scoring problem setup\n",
        "\n",
        "#### Problem\n",
        "\n",
        "Predict whether the customer will repay their credit within 90 days. This is a binary classification problem; we will assign customers into good or bad categories based on our prediction.\n",
        "\n",
        "#### Data description\n",
        "\n",
        "| Feature | Variable Type | Value Type | Description |\n",
        "|:--------|:--------------|:-----------|:------------|\n",
        "| age | Input Feature | integer | Customer age |\n",
        "| DebtRatio | Input Feature | real | Total monthly loan payments (loan, alimony, etc.) / Total monthly income percentage |\n",
        "| NumberOfTime30-59DaysPastDueNotWorse | Input Feature | integer | The number of cases when client has overdue 30-59 days (not worse) on other loans during the last 2 years |\n",
        "| NumberOfTimes90DaysLate | Input Feature | integer | Number of cases when customer had 90+dpd overdue on other credits |\n",
        "| NumberOfTime60-89DaysPastDueNotWorse | Input Feature | integer | Number of cased when customer has 60-89dpd (not worse) during the last 2 years |\n",
        "| NumberOfDependents | Input Feature | integer | The number of customer dependents |\n",
        "| SeriousDlqin2yrs | Target Variable | binary: <br>0 or 1 | Customer hasn't paid the loan debt within 90 days |\n"
      ]
    },
    {
      "cell_type": "markdown",
      "metadata": {
        "_uuid": "cf00ffaa95568822b321f86f6940b384525c275c",
        "id": "qzAbOX3Q3Y3k",
        "colab_type": "text"
      },
      "source": [
        "Let's set up our environment:"
      ]
    },
    {
      "cell_type": "code",
      "metadata": {
        "_uuid": "197055d4db039ee54a857494a1e84200fcb33fa4",
        "id": "Lh71kj4L3Y3l",
        "colab_type": "code",
        "colab": {}
      },
      "source": [
        "# Disable warnings in Anaconda\n",
        "import warnings\n",
        "warnings.filterwarnings('ignore')\n",
        "\n",
        "import numpy as np\n",
        "import pandas as pd\n",
        "%matplotlib inline\n",
        "import matplotlib.pyplot as plt\n",
        "import seaborn as sns\n",
        "sns.set()"
      ],
      "execution_count": 0,
      "outputs": []
    },
    {
      "cell_type": "code",
      "metadata": {
        "_uuid": "2e1c12d5eb8670c68ff91612456916f4b3ff9197",
        "id": "6ngALI3c3Y3p",
        "colab_type": "code",
        "colab": {}
      },
      "source": [
        "from matplotlib import rcParams\n",
        "rcParams['figure.figsize'] = 11, 8"
      ],
      "execution_count": 0,
      "outputs": []
    },
    {
      "cell_type": "markdown",
      "metadata": {
        "_uuid": "3985e23c8ea5cdcf82a41a6679e19545f298b91d",
        "id": "xCIrJ9eh3Y3u",
        "colab_type": "text"
      },
      "source": [
        "Let's write the function that will replace *NaN* values with the median for each column."
      ]
    },
    {
      "cell_type": "code",
      "metadata": {
        "_uuid": "e1459c8caeca9c1d74f09f90527dd8f903f64c0c",
        "id": "zT9eiWP_3Y3w",
        "colab_type": "code",
        "colab": {}
      },
      "source": [
        "def fill_nan(table):\n",
        "    for col in table.columns:\n",
        "        table[col] = table[col].fillna(table[col].median())\n",
        "    return table   "
      ],
      "execution_count": 0,
      "outputs": []
    },
    {
      "cell_type": "markdown",
      "metadata": {
        "_uuid": "823a4f445060551ed21dc85229b7fa60d71a41d6",
        "id": "MfShGzGB3Y3z",
        "colab_type": "text"
      },
      "source": [
        "Now, read the data:"
      ]
    },
    {
      "cell_type": "code",
      "metadata": {
        "_uuid": "3475d93eee2568ba63d2b56ec53914b2f27f1a76",
        "id": "jygq3bCN3Y31",
        "colab_type": "code",
        "colab": {
          "base_uri": "https://localhost:8080/",
          "height": 191
        },
        "outputId": "54529540-d305-424b-9a8f-80caec72e637"
      },
      "source": [
        "data = pd.read_csv('credit_scoring_sample.csv')\n",
        "data.head()"
      ],
      "execution_count": 6,
      "outputs": [
        {
          "output_type": "execute_result",
          "data": {
            "text/html": [
              "<div>\n",
              "<style scoped>\n",
              "    .dataframe tbody tr th:only-of-type {\n",
              "        vertical-align: middle;\n",
              "    }\n",
              "\n",
              "    .dataframe tbody tr th {\n",
              "        vertical-align: top;\n",
              "    }\n",
              "\n",
              "    .dataframe thead th {\n",
              "        text-align: right;\n",
              "    }\n",
              "</style>\n",
              "<table border=\"1\" class=\"dataframe\">\n",
              "  <thead>\n",
              "    <tr style=\"text-align: right;\">\n",
              "      <th></th>\n",
              "      <th>SeriousDlqin2yrs</th>\n",
              "      <th>age</th>\n",
              "      <th>NumberOfTime30-59DaysPastDueNotWorse</th>\n",
              "      <th>DebtRatio</th>\n",
              "      <th>NumberOfTimes90DaysLate</th>\n",
              "      <th>NumberOfTime60-89DaysPastDueNotWorse</th>\n",
              "      <th>MonthlyIncome</th>\n",
              "      <th>NumberOfDependents</th>\n",
              "    </tr>\n",
              "  </thead>\n",
              "  <tbody>\n",
              "    <tr>\n",
              "      <th>0</th>\n",
              "      <td>0</td>\n",
              "      <td>64</td>\n",
              "      <td>0</td>\n",
              "      <td>0.249908</td>\n",
              "      <td>0</td>\n",
              "      <td>0</td>\n",
              "      <td>8158.0</td>\n",
              "      <td>0.0</td>\n",
              "    </tr>\n",
              "    <tr>\n",
              "      <th>1</th>\n",
              "      <td>0</td>\n",
              "      <td>58</td>\n",
              "      <td>0</td>\n",
              "      <td>3870.000000</td>\n",
              "      <td>0</td>\n",
              "      <td>0</td>\n",
              "      <td>NaN</td>\n",
              "      <td>0.0</td>\n",
              "    </tr>\n",
              "    <tr>\n",
              "      <th>2</th>\n",
              "      <td>0</td>\n",
              "      <td>41</td>\n",
              "      <td>0</td>\n",
              "      <td>0.456127</td>\n",
              "      <td>0</td>\n",
              "      <td>0</td>\n",
              "      <td>6666.0</td>\n",
              "      <td>0.0</td>\n",
              "    </tr>\n",
              "    <tr>\n",
              "      <th>3</th>\n",
              "      <td>0</td>\n",
              "      <td>43</td>\n",
              "      <td>0</td>\n",
              "      <td>0.000190</td>\n",
              "      <td>0</td>\n",
              "      <td>0</td>\n",
              "      <td>10500.0</td>\n",
              "      <td>2.0</td>\n",
              "    </tr>\n",
              "    <tr>\n",
              "      <th>4</th>\n",
              "      <td>1</td>\n",
              "      <td>49</td>\n",
              "      <td>0</td>\n",
              "      <td>0.271820</td>\n",
              "      <td>0</td>\n",
              "      <td>0</td>\n",
              "      <td>400.0</td>\n",
              "      <td>0.0</td>\n",
              "    </tr>\n",
              "  </tbody>\n",
              "</table>\n",
              "</div>"
            ],
            "text/plain": [
              "   SeriousDlqin2yrs  age  ...  MonthlyIncome  NumberOfDependents\n",
              "0                 0   64  ...         8158.0                 0.0\n",
              "1                 0   58  ...            NaN                 0.0\n",
              "2                 0   41  ...         6666.0                 0.0\n",
              "3                 0   43  ...        10500.0                 2.0\n",
              "4                 1   49  ...          400.0                 0.0\n",
              "\n",
              "[5 rows x 8 columns]"
            ]
          },
          "metadata": {
            "tags": []
          },
          "execution_count": 6
        }
      ]
    },
    {
      "cell_type": "markdown",
      "metadata": {
        "_uuid": "b3b765fc0280ac411eb51d2fb59d4d1f76555559",
        "id": "J7GQo2cd3Y36",
        "colab_type": "text"
      },
      "source": [
        "Look at the variable types:"
      ]
    },
    {
      "cell_type": "code",
      "metadata": {
        "_uuid": "198d86cc359e78593902a833acff4a713b846fa2",
        "id": "SNc04Qb_3Y37",
        "colab_type": "code",
        "colab": {
          "base_uri": "https://localhost:8080/",
          "height": 163
        },
        "outputId": "2aa111b1-ff46-4d65-8062-4bfb6264957f"
      },
      "source": [
        "data.dtypes"
      ],
      "execution_count": 7,
      "outputs": [
        {
          "output_type": "execute_result",
          "data": {
            "text/plain": [
              "SeriousDlqin2yrs                          int64\n",
              "age                                       int64\n",
              "NumberOfTime30-59DaysPastDueNotWorse      int64\n",
              "DebtRatio                               float64\n",
              "NumberOfTimes90DaysLate                   int64\n",
              "NumberOfTime60-89DaysPastDueNotWorse      int64\n",
              "MonthlyIncome                           float64\n",
              "NumberOfDependents                      float64\n",
              "dtype: object"
            ]
          },
          "metadata": {
            "tags": []
          },
          "execution_count": 7
        }
      ]
    },
    {
      "cell_type": "markdown",
      "metadata": {
        "_uuid": "8e58435e3f00c58ca692ffc1f945cf7996ec5f43",
        "id": "t1SRF3yB3Y3_",
        "colab_type": "text"
      },
      "source": [
        "Check the class balance:"
      ]
    },
    {
      "cell_type": "code",
      "metadata": {
        "_uuid": "2c34e0f6dc1afd4bb389b7a38ee4e2822ca8ae85",
        "id": "1ybbnxg13Y4A",
        "colab_type": "code",
        "colab": {
          "base_uri": "https://localhost:8080/",
          "height": 582
        },
        "outputId": "69fef423-c389-4170-90b8-b9c625991af7"
      },
      "source": [
        "ax = data['SeriousDlqin2yrs'].hist(orientation='vertical', color='red')\n",
        "ax.set_xlabel(\"number_of_observations\")\n",
        "ax.set_ylabel(\"unique_value\")\n",
        "ax.set_title(\"Target distribution\")\n",
        "\n",
        "print('Distribution of the target:')\n",
        "data['SeriousDlqin2yrs'].value_counts()/data.shape[0]"
      ],
      "execution_count": 9,
      "outputs": [
        {
          "output_type": "stream",
          "text": [
            "Distribution of the target:\n"
          ],
          "name": "stdout"
        },
        {
          "output_type": "execute_result",
          "data": {
            "text/plain": [
              "0    0.777511\n",
              "1    0.222489\n",
              "Name: SeriousDlqin2yrs, dtype: float64"
            ]
          },
          "metadata": {
            "tags": []
          },
          "execution_count": 9
        },
        {
          "output_type": "display_data",
          "data": {
            "image/png": "[encoded data removed]",
            "text/plain": [
              "<Figure size 792x576 with 1 Axes>"
            ]
          },
          "metadata": {
            "tags": []
          }
        }
      ]
    },
    {
      "cell_type": "markdown",
      "metadata": {
        "_uuid": "7184e15364d58236dd205dc2c6742a71ff2c311c",
        "id": "8vfKrcHs3Y4E",
        "colab_type": "text"
      },
      "source": [
        "Separate the input variable names by excluding the target:"
      ]
    },
    {
      "cell_type": "code",
      "metadata": {
        "_uuid": "29010333ea61302deb07db4d8c93757c2e2aae8e",
        "id": "boWGHdIe3Y4F",
        "colab_type": "code",
        "colab": {
          "base_uri": "https://localhost:8080/",
          "height": 131
        },
        "outputId": "990fe16f-1fcc-4362-e307-5036e1e8fe11"
      },
      "source": [
        "independent_columns_names = [x for x in data if x != 'SeriousDlqin2yrs']\n",
        "independent_columns_names"
      ],
      "execution_count": 10,
      "outputs": [
        {
          "output_type": "execute_result",
          "data": {
            "text/plain": [
              "['age',\n",
              " 'NumberOfTime30-59DaysPastDueNotWorse',\n",
              " 'DebtRatio',\n",
              " 'NumberOfTimes90DaysLate',\n",
              " 'NumberOfTime60-89DaysPastDueNotWorse',\n",
              " 'MonthlyIncome',\n",
              " 'NumberOfDependents']"
            ]
          },
          "metadata": {
            "tags": []
          },
          "execution_count": 10
        }
      ]
    },
    {
      "cell_type": "markdown",
      "metadata": {
        "_uuid": "1c931120354f70f96439c6bc5f9a097006d39ee0",
        "id": "76TX4Gdi3Y4J",
        "colab_type": "text"
      },
      "source": [
        "Apply the function to replace *NaN* values:"
      ]
    },
    {
      "cell_type": "code",
      "metadata": {
        "_uuid": "1cc2046a4c4ffb383c1bb2ff320c5744d9e79e09",
        "id": "TW1p_9A43Y4K",
        "colab_type": "code",
        "colab": {}
      },
      "source": [
        "table = fill_nan(data)"
      ],
      "execution_count": 0,
      "outputs": []
    },
    {
      "cell_type": "markdown",
      "metadata": {
        "_uuid": "a3550a9a8438dfedb486eb460dc3aba1779110ee",
        "id": "wqhHSz9m3Y4P",
        "colab_type": "text"
      },
      "source": [
        "Separate the target variable and input features:"
      ]
    },
    {
      "cell_type": "code",
      "metadata": {
        "_uuid": "bb2db1e37f2d710dc653fa880bd3b8f1f2392624",
        "id": "pNEEYsjg3Y4Q",
        "colab_type": "code",
        "colab": {}
      },
      "source": [
        "X = table[independent_columns_names]\n",
        "y = table['SeriousDlqin2yrs']"
      ],
      "execution_count": 0,
      "outputs": []
    },
    {
      "cell_type": "markdown",
      "metadata": {
        "_uuid": "c00409793167925ef13cd2e3421ae714f422ca1d",
        "id": "yiM0oM_c3Y4b",
        "colab_type": "text"
      },
      "source": [
        "## Logistic regression"
      ]
    },
    {
      "cell_type": "markdown",
      "metadata": {
        "_uuid": "049f2140c04cfd9d823e7599929d6c806077429a",
        "id": "cAj-sc-83Y4c",
        "colab_type": "text"
      },
      "source": [
        "Let's set up to use logistic regression:"
      ]
    },
    {
      "cell_type": "code",
      "metadata": {
        "_uuid": "1f19b01741543a37d4dac2c293641d4c718cdc30",
        "id": "14ajitDU3Y4d",
        "colab_type": "code",
        "colab": {}
      },
      "source": [
        "from sklearn.linear_model import LogisticRegression\n",
        "from sklearn.model_selection import GridSearchCV, StratifiedKFold"
      ],
      "execution_count": 0,
      "outputs": []
    },
    {
      "cell_type": "markdown",
      "metadata": {
        "_uuid": "27d9e0d93c3af4facd88afb68793735f9f75e93d",
        "id": "PsMNxS1t3Y4h",
        "colab_type": "text"
      },
      "source": [
        "Now, we will create a LogisticRegression model and use class_weight='balanced' to make up for our unbalanced classes."
      ]
    },
    {
      "cell_type": "code",
      "metadata": {
        "_uuid": "d2213047506ec3f34b4993bdf4ba52e400c4d5c6",
        "id": "wkONUtkU3Y4i",
        "colab_type": "code",
        "colab": {}
      },
      "source": [
        "lr = LogisticRegression(random_state=5, class_weight='balanced')"
      ],
      "execution_count": 0,
      "outputs": []
    },
    {
      "cell_type": "markdown",
      "metadata": {
        "_uuid": "8a4c60bb6b6f94c57286ade27e7e0c84ff38f02f",
        "id": "_D9JZ0z83Y4m",
        "colab_type": "text"
      },
      "source": [
        "Let's try to find the best regularization coefficient, which is the coefficient `C` for logistic regression. Then, we will have an optimal model that is not overfit and is a good predictor of the target variable."
      ]
    },
    {
      "cell_type": "code",
      "metadata": {
        "_uuid": "eb40db1c0c808ca635a39e256614ec1f342b38b5",
        "id": "QFyzLvOJ3Y4n",
        "colab_type": "code",
        "colab": {}
      },
      "source": [
        "parameters = {'C': (0.0001, 0.001, 0.01, 0.1, 1, 10)}"
      ],
      "execution_count": 0,
      "outputs": []
    },
    {
      "cell_type": "markdown",
      "metadata": {
        "_uuid": "9fdc3f8bcde8e8286c9fa861327dcffeae0805ab",
        "id": "9uXAcg3r3Y4r",
        "colab_type": "text"
      },
      "source": [
        "In order to find the optimal value of `C`, let's apply stratified 5-fold validation and look at the *ROC AUC* against different values of the parameter `C`. Use the `StratifiedKFold` function for this: "
      ]
    },
    {
      "cell_type": "code",
      "metadata": {
        "_uuid": "452e8b3c2bff55920b7f7145a9e9f4e2eb70455d",
        "id": "8x3HdLS13Y4t",
        "colab_type": "code",
        "colab": {}
      },
      "source": [
        "skf = StratifiedKFold(n_splits=5, shuffle=True, random_state=5)"
      ],
      "execution_count": 0,
      "outputs": []
    },
    {
      "cell_type": "markdown",
      "metadata": {
        "_uuid": "51a9f93c59b00aaaf64e6f2f7e49232075f99f4a",
        "id": "vJkzau4j3Y4z",
        "colab_type": "text"
      },
      "source": [
        "One of the important metrics of model quality is the *Area Under the Curve (AUC)*. *ROC AUC* varies from 0 to 1. The closer ROC AUC to 1, the better the quality of the classification model."
      ]
    },
    {
      "cell_type": "code",
      "metadata": {
        "_uuid": "a3b0308c9fab97d0af8c0ce0bad89ec10160b78d",
        "id": "QwPJ05_Y3Y45",
        "colab_type": "code",
        "colab": {
          "base_uri": "https://localhost:8080/",
          "height": 98
        },
        "outputId": "8360bc39-e0a2-408f-fe44-fb8668e45ad8"
      },
      "source": [
        "grid_search = GridSearchCV(lr, parameters, n_jobs=-1, scoring='roc_auc', cv=skf)\n",
        "grid_search = grid_search.fit(X, y)\n",
        "grid_search.best_estimator_"
      ],
      "execution_count": 17,
      "outputs": [
        {
          "output_type": "execute_result",
          "data": {
            "text/plain": [
              "LogisticRegression(C=0.001, class_weight='balanced', dual=False,\n",
              "                   fit_intercept=True, intercept_scaling=1, l1_ratio=None,\n",
              "                   max_iter=100, multi_class='warn', n_jobs=None, penalty='l2',\n",
              "                   random_state=5, solver='warn', tol=0.0001, verbose=0,\n",
              "                   warm_start=False)"
            ]
          },
          "metadata": {
            "tags": []
          },
          "execution_count": 17
        }
      ]
    },
    {
      "cell_type": "code",
      "metadata": {
        "_uuid": "f66ce5b16c52a933d553c36a7726c1e64545172c",
        "id": "hvADt77Q3Y4-",
        "colab_type": "code",
        "colab": {
          "base_uri": "https://localhost:8080/",
          "height": 33
        },
        "outputId": "ae944329-5a89-4cf2-dde4-449b6741cc1e"
      },
      "source": [
        "grid_search.cv_results_['std_test_score'][1]"
      ],
      "execution_count": 19,
      "outputs": [
        {
          "output_type": "execute_result",
          "data": {
            "text/plain": [
              "0.0036575315928092777"
            ]
          },
          "metadata": {
            "tags": []
          },
          "execution_count": 19
        }
      ]
    },
    {
      "cell_type": "markdown",
      "metadata": {
        "_uuid": "5b3d33ca7e4f8de9d77300925a06727997295653",
        "id": "iT8hoDYa3Y5C",
        "colab_type": "text"
      },
      "source": [
        "The *ROC AUC* value of the best model:"
      ]
    },
    {
      "cell_type": "code",
      "metadata": {
        "_uuid": "f9111ea07a80637b30278534055e461915efda49",
        "id": "O1Z6H30L3Y5D",
        "colab_type": "code",
        "colab": {
          "base_uri": "https://localhost:8080/",
          "height": 33
        },
        "outputId": "abda60df-709d-4abf-9536-ca9300f86fa8"
      },
      "source": [
        "grid_search.best_score_"
      ],
      "execution_count": 20,
      "outputs": [
        {
          "output_type": "execute_result",
          "data": {
            "text/plain": [
              "0.7961005583408316"
            ]
          },
          "metadata": {
            "tags": []
          },
          "execution_count": 20
        }
      ]
    },
    {
      "cell_type": "markdown",
      "metadata": {
        "_uuid": "8eddc39563852fba021e40405bd38e643ee5f760",
        "id": "Hsmh_9n43Y5H",
        "colab_type": "text"
      },
      "source": [
        "## Feature importance"
      ]
    },
    {
      "cell_type": "code",
      "metadata": {
        "_uuid": "2031c7ed4ab15c52494b148c0c8195a16a75e90c",
        "id": "7KdFKcPe3Y5J",
        "colab_type": "code",
        "colab": {
          "base_uri": "https://localhost:8080/",
          "height": 248
        },
        "outputId": "ab4e5324-4763-4018-e571-8542208084fd"
      },
      "source": [
        "from sklearn.preprocessing import StandardScaler\n",
        "lr = LogisticRegression(C=0.001, random_state=5, class_weight='balanced')\n",
        "scal = StandardScaler()\n",
        "lr.fit(scal.fit_transform(X), y)\n",
        "\n",
        "pd.DataFrame({'feat': independent_columns_names,\n",
        "              'coef': lr.coef_.flatten().tolist()}).sort_values(by='coef', ascending=False)"
      ],
      "execution_count": 21,
      "outputs": [
        {
          "output_type": "execute_result",
          "data": {
            "text/html": [
              "<div>\n",
              "<style scoped>\n",
              "    .dataframe tbody tr th:only-of-type {\n",
              "        vertical-align: middle;\n",
              "    }\n",
              "\n",
              "    .dataframe tbody tr th {\n",
              "        vertical-align: top;\n",
              "    }\n",
              "\n",
              "    .dataframe thead th {\n",
              "        text-align: right;\n",
              "    }\n",
              "</style>\n",
              "<table border=\"1\" class=\"dataframe\">\n",
              "  <thead>\n",
              "    <tr style=\"text-align: right;\">\n",
              "      <th></th>\n",
              "      <th>feat</th>\n",
              "      <th>coef</th>\n",
              "    </tr>\n",
              "  </thead>\n",
              "  <tbody>\n",
              "    <tr>\n",
              "      <th>1</th>\n",
              "      <td>NumberOfTime30-59DaysPastDueNotWorse</td>\n",
              "      <td>0.724004</td>\n",
              "    </tr>\n",
              "    <tr>\n",
              "      <th>3</th>\n",
              "      <td>NumberOfTimes90DaysLate</td>\n",
              "      <td>0.517673</td>\n",
              "    </tr>\n",
              "    <tr>\n",
              "      <th>4</th>\n",
              "      <td>NumberOfTime60-89DaysPastDueNotWorse</td>\n",
              "      <td>0.194732</td>\n",
              "    </tr>\n",
              "    <tr>\n",
              "      <th>6</th>\n",
              "      <td>NumberOfDependents</td>\n",
              "      <td>0.101326</td>\n",
              "    </tr>\n",
              "    <tr>\n",
              "      <th>2</th>\n",
              "      <td>DebtRatio</td>\n",
              "      <td>-0.024082</td>\n",
              "    </tr>\n",
              "    <tr>\n",
              "      <th>5</th>\n",
              "      <td>MonthlyIncome</td>\n",
              "      <td>-0.162864</td>\n",
              "    </tr>\n",
              "    <tr>\n",
              "      <th>0</th>\n",
              "      <td>age</td>\n",
              "      <td>-0.416304</td>\n",
              "    </tr>\n",
              "  </tbody>\n",
              "</table>\n",
              "</div>"
            ],
            "text/plain": [
              "                                   feat      coef\n",
              "1  NumberOfTime30-59DaysPastDueNotWorse  0.724004\n",
              "3               NumberOfTimes90DaysLate  0.517673\n",
              "4  NumberOfTime60-89DaysPastDueNotWorse  0.194732\n",
              "6                    NumberOfDependents  0.101326\n",
              "2                             DebtRatio -0.024082\n",
              "5                         MonthlyIncome -0.162864\n",
              "0                                   age -0.416304"
            ]
          },
          "metadata": {
            "tags": []
          },
          "execution_count": 21
        }
      ]
    },
    {
      "cell_type": "markdown",
      "metadata": {
        "_uuid": "0ed704e9ffb67bc4b34ac4261f6ee12196730b0f",
        "id": "sRQBfe5b3Y5O",
        "colab_type": "text"
      },
      "source": [
        " How much `DebtRatio` affects the prediction using the [softmax function]"
      ]
    },
    {
      "cell_type": "code",
      "metadata": {
        "_uuid": "a7323ecd210663409ff32ace65c8a7cbc49ea701",
        "id": "6d5b2Shi3Y5Q",
        "colab_type": "code",
        "colab": {
          "base_uri": "https://localhost:8080/",
          "height": 33
        },
        "outputId": "c7a31afb-4c9f-4a46-c6dc-7e4c0a9f3511"
      },
      "source": [
        "print((np.exp(lr.coef_[0]) / np.sum(np.exp(lr.coef_[0])))[2])"
      ],
      "execution_count": 22,
      "outputs": [
        {
          "output_type": "stream",
          "text": [
            "0.11420536719928259\n"
          ],
          "name": "stdout"
        }
      ]
    },
    {
      "cell_type": "code",
      "metadata": {
        "_uuid": "1815a62f810949c3f16c640e407ece01d241a7e0",
        "id": "P3ZgbMe73Y5V",
        "colab_type": "code",
        "colab": {
          "base_uri": "https://localhost:8080/",
          "height": 248
        },
        "outputId": "34759a79-9482-4161-948b-97c0836d5fe1"
      },
      "source": [
        "lr = LogisticRegression(C=0.001, random_state=5, class_weight='balanced')\n",
        "lr.fit(X, y)\n",
        "\n",
        "pd.DataFrame({'feat': independent_columns_names,\n",
        "              'coef': lr.coef_.flatten().tolist()}).sort_values(by='coef', ascending=False)"
      ],
      "execution_count": 23,
      "outputs": [
        {
          "output_type": "execute_result",
          "data": {
            "text/html": [
              "<div>\n",
              "<style scoped>\n",
              "    .dataframe tbody tr th:only-of-type {\n",
              "        vertical-align: middle;\n",
              "    }\n",
              "\n",
              "    .dataframe tbody tr th {\n",
              "        vertical-align: top;\n",
              "    }\n",
              "\n",
              "    .dataframe thead th {\n",
              "        text-align: right;\n",
              "    }\n",
              "</style>\n",
              "<table border=\"1\" class=\"dataframe\">\n",
              "  <thead>\n",
              "    <tr style=\"text-align: right;\">\n",
              "      <th></th>\n",
              "      <th>feat</th>\n",
              "      <th>coef</th>\n",
              "    </tr>\n",
              "  </thead>\n",
              "  <tbody>\n",
              "    <tr>\n",
              "      <th>1</th>\n",
              "      <td>NumberOfTime30-59DaysPastDueNotWorse</td>\n",
              "      <td>0.482349</td>\n",
              "    </tr>\n",
              "    <tr>\n",
              "      <th>3</th>\n",
              "      <td>NumberOfTimes90DaysLate</td>\n",
              "      <td>0.430314</td>\n",
              "    </tr>\n",
              "    <tr>\n",
              "      <th>6</th>\n",
              "      <td>NumberOfDependents</td>\n",
              "      <td>0.115356</td>\n",
              "    </tr>\n",
              "    <tr>\n",
              "      <th>4</th>\n",
              "      <td>NumberOfTime60-89DaysPastDueNotWorse</td>\n",
              "      <td>0.065958</td>\n",
              "    </tr>\n",
              "    <tr>\n",
              "      <th>2</th>\n",
              "      <td>DebtRatio</td>\n",
              "      <td>-0.000011</td>\n",
              "    </tr>\n",
              "    <tr>\n",
              "      <th>5</th>\n",
              "      <td>MonthlyIncome</td>\n",
              "      <td>-0.000011</td>\n",
              "    </tr>\n",
              "    <tr>\n",
              "      <th>0</th>\n",
              "      <td>age</td>\n",
              "      <td>-0.018185</td>\n",
              "    </tr>\n",
              "  </tbody>\n",
              "</table>\n",
              "</div>"
            ],
            "text/plain": [
              "                                   feat      coef\n",
              "1  NumberOfTime30-59DaysPastDueNotWorse  0.482349\n",
              "3               NumberOfTimes90DaysLate  0.430314\n",
              "6                    NumberOfDependents  0.115356\n",
              "4  NumberOfTime60-89DaysPastDueNotWorse  0.065958\n",
              "2                             DebtRatio -0.000011\n",
              "5                         MonthlyIncome -0.000011\n",
              "0                                   age -0.018185"
            ]
          },
          "metadata": {
            "tags": []
          },
          "execution_count": 23
        }
      ]
    },
    {
      "cell_type": "code",
      "metadata": {
        "_uuid": "0d0fc97f0d48880772c9bd9edbed3c0870cf7b58",
        "id": "S0o1FAaL3Y5d",
        "colab_type": "code",
        "colab": {
          "base_uri": "https://localhost:8080/",
          "height": 33
        },
        "outputId": "1de9a6ed-9157-44fe-8c5e-f62e19571cfe"
      },
      "source": [
        "np.exp(lr.coef_[0][0]*20)"
      ],
      "execution_count": 24,
      "outputs": [
        {
          "output_type": "execute_result",
          "data": {
            "text/plain": [
              "0.6950957725918026"
            ]
          },
          "metadata": {
            "tags": []
          },
          "execution_count": 24
        }
      ]
    },
    {
      "cell_type": "markdown",
      "metadata": {
        "_uuid": "f9902d1d0e684320a5d01e16f6d44ee8e6c233fd",
        "id": "ADuqdima3Y5k",
        "colab_type": "text"
      },
      "source": [
        "It is $\\exp^{\\beta\\delta}$ times more likely that the customer won't repay the debt, where $\\delta$ is the feature value increment. That means that if we increased the age by 20 years, the odds that the customer won't repay would increase by 0.69 times."
      ]
    },
    {
      "cell_type": "markdown",
      "metadata": {
        "_uuid": "c01f65bb2ab3253a111c29c3b5fc73e5305d24b9",
        "id": "d2E2BYAk3Y5l",
        "colab_type": "text"
      },
      "source": [
        "## Random Forest"
      ]
    },
    {
      "cell_type": "markdown",
      "metadata": {
        "_uuid": "3bb46f5609dc2766e313399fb31c8828220d4ed2",
        "id": "cQpkDxWP3Y5m",
        "colab_type": "text"
      },
      "source": [
        "Import the Random Forest classifier:"
      ]
    },
    {
      "cell_type": "code",
      "metadata": {
        "_uuid": "442b333f8797ede42c31a1ff05232ff478c977a8",
        "id": "7xMgOQYs3Y5n",
        "colab_type": "code",
        "colab": {}
      },
      "source": [
        "from sklearn.ensemble import RandomForestClassifier"
      ],
      "execution_count": 0,
      "outputs": []
    },
    {
      "cell_type": "markdown",
      "metadata": {
        "_uuid": "2d8547280243f3976117996a417068444ecc2e74",
        "id": "QtOddU_N3Y5q",
        "colab_type": "text"
      },
      "source": [
        "Initialize Random Forest with 100 trees and balance target classes:"
      ]
    },
    {
      "cell_type": "code",
      "metadata": {
        "_uuid": "e578f7db5df4d5b828a0c94717a81b8c2d14b84d",
        "id": "kI82F_023Y5r",
        "colab_type": "code",
        "colab": {}
      },
      "source": [
        "rf = RandomForestClassifier(n_estimators=100, n_jobs=-1, random_state=42, \n",
        "                            class_weight='balanced')"
      ],
      "execution_count": 0,
      "outputs": []
    },
    {
      "cell_type": "markdown",
      "metadata": {
        "_uuid": "d71116d17f7d81c6fae0ce0f3e7e37f579289046",
        "id": "n32AsFmc3Y5w",
        "colab_type": "text"
      },
      "source": [
        "We will search for the best parameters among the following values:"
      ]
    },
    {
      "cell_type": "code",
      "metadata": {
        "_uuid": "d945a60f708fd82e9188f31fc3199d7ce8ee5c7c",
        "id": "vLXLN_cE3Y5z",
        "colab_type": "code",
        "colab": {}
      },
      "source": [
        "parameters = {'max_features': [1, 2, 4], 'min_samples_leaf': [3, 5, 7, 9], 'max_depth': [5,10,15]}"
      ],
      "execution_count": 0,
      "outputs": []
    },
    {
      "cell_type": "markdown",
      "metadata": {
        "_uuid": "81bae9dadb786bb83a66fc16721129f8426e029c",
        "id": "S6wBeMDo3Y54",
        "colab_type": "text"
      },
      "source": [
        "Also, we will use the stratified k-fold validation again. You should still have the `skf` variable."
      ]
    },
    {
      "cell_type": "code",
      "metadata": {
        "_uuid": "56022cfc3fc78083b439c27defedd7c5b72c1dd7",
        "id": "tTwFNU4d3Y57",
        "colab_type": "code",
        "colab": {
          "base_uri": "https://localhost:8080/",
          "height": 131
        },
        "outputId": "c9687e8c-77e3-4c7e-95a4-7648ce105c7c"
      },
      "source": [
        "%%time\n",
        "rf_grid_search = GridSearchCV(rf, parameters, n_jobs=-1, scoring='roc_auc', cv=skf, verbose=True)\n",
        "rf_grid_search = rf_grid_search.fit(X, y)\n",
        "print(rf_grid_search.best_score_ - grid_search.best_score_)"
      ],
      "execution_count": 29,
      "outputs": [
        {
          "output_type": "stream",
          "text": [
            "Fitting 5 folds for each of 36 candidates, totalling 180 fits\n"
          ],
          "name": "stdout"
        },
        {
          "output_type": "stream",
          "text": [
            "[Parallel(n_jobs=-1)]: Using backend LokyBackend with 2 concurrent workers.\n",
            "[Parallel(n_jobs=-1)]: Done  46 tasks      | elapsed:   60.0s\n",
            "[Parallel(n_jobs=-1)]: Done 180 out of 180 | elapsed:  6.8min finished\n"
          ],
          "name": "stderr"
        },
        {
          "output_type": "stream",
          "text": [
            "0.03953088987040243\n",
            "CPU times: user 6 s, sys: 135 ms, total: 6.13 s\n",
            "Wall time: 6min 51s\n"
          ],
          "name": "stdout"
        }
      ]
    },
    {
      "cell_type": "code",
      "metadata": {
        "id": "9NxgCZ0I89h2",
        "colab_type": "code",
        "colab": {
          "base_uri": "https://localhost:8080/",
          "height": 33
        },
        "outputId": "32f99320-5b44-4b56-b7ca-1557f420f47b"
      },
      "source": [
        "print(rf_grid_search.best_score_)"
      ],
      "execution_count": 33,
      "outputs": [
        {
          "output_type": "stream",
          "text": [
            "0.835631448211234\n"
          ],
          "name": "stdout"
        }
      ]
    },
    {
      "cell_type": "markdown",
      "metadata": {
        "_uuid": "2307d1c50886773622ca9e0cca0513f57f573d1b",
        "id": "1Eoh1HMV3Y6C",
        "colab_type": "text"
      },
      "source": [
        "Rating of the feature importance:"
      ]
    },
    {
      "cell_type": "code",
      "metadata": {
        "_uuid": "2adb63b9919c649d7423ffecc2bcc92f2d8caf6d",
        "id": "ggqGn8zq3Y6D",
        "colab_type": "code",
        "colab": {
          "base_uri": "https://localhost:8080/",
          "height": 248
        },
        "outputId": "3e8d5a57-789a-4d2b-b73a-b2eca61fe4f5"
      },
      "source": [
        "pd.DataFrame({'feat': independent_columns_names,\n",
        "              'coef': rf_grid_search.best_estimator_.feature_importances_}).sort_values(by='coef', ascending=False)"
      ],
      "execution_count": 31,
      "outputs": [
        {
          "output_type": "execute_result",
          "data": {
            "text/html": [
              "<div>\n",
              "<style scoped>\n",
              "    .dataframe tbody tr th:only-of-type {\n",
              "        vertical-align: middle;\n",
              "    }\n",
              "\n",
              "    .dataframe tbody tr th {\n",
              "        vertical-align: top;\n",
              "    }\n",
              "\n",
              "    .dataframe thead th {\n",
              "        text-align: right;\n",
              "    }\n",
              "</style>\n",
              "<table border=\"1\" class=\"dataframe\">\n",
              "  <thead>\n",
              "    <tr style=\"text-align: right;\">\n",
              "      <th></th>\n",
              "      <th>feat</th>\n",
              "      <th>coef</th>\n",
              "    </tr>\n",
              "  </thead>\n",
              "  <tbody>\n",
              "    <tr>\n",
              "      <th>1</th>\n",
              "      <td>NumberOfTime30-59DaysPastDueNotWorse</td>\n",
              "      <td>0.301419</td>\n",
              "    </tr>\n",
              "    <tr>\n",
              "      <th>3</th>\n",
              "      <td>NumberOfTimes90DaysLate</td>\n",
              "      <td>0.278862</td>\n",
              "    </tr>\n",
              "    <tr>\n",
              "      <th>4</th>\n",
              "      <td>NumberOfTime60-89DaysPastDueNotWorse</td>\n",
              "      <td>0.153586</td>\n",
              "    </tr>\n",
              "    <tr>\n",
              "      <th>0</th>\n",
              "      <td>age</td>\n",
              "      <td>0.116950</td>\n",
              "    </tr>\n",
              "    <tr>\n",
              "      <th>2</th>\n",
              "      <td>DebtRatio</td>\n",
              "      <td>0.076190</td>\n",
              "    </tr>\n",
              "    <tr>\n",
              "      <th>5</th>\n",
              "      <td>MonthlyIncome</td>\n",
              "      <td>0.058536</td>\n",
              "    </tr>\n",
              "    <tr>\n",
              "      <th>6</th>\n",
              "      <td>NumberOfDependents</td>\n",
              "      <td>0.014457</td>\n",
              "    </tr>\n",
              "  </tbody>\n",
              "</table>\n",
              "</div>"
            ],
            "text/plain": [
              "                                   feat      coef\n",
              "1  NumberOfTime30-59DaysPastDueNotWorse  0.301419\n",
              "3               NumberOfTimes90DaysLate  0.278862\n",
              "4  NumberOfTime60-89DaysPastDueNotWorse  0.153586\n",
              "0                                   age  0.116950\n",
              "2                             DebtRatio  0.076190\n",
              "5                         MonthlyIncome  0.058536\n",
              "6                    NumberOfDependents  0.014457"
            ]
          },
          "metadata": {
            "tags": []
          },
          "execution_count": 31
        }
      ]
    },
    {
      "cell_type": "markdown",
      "metadata": {
        "_uuid": "d15290f4de7845909e4d3ce1b5d2654172fa6a4e",
        "id": "yfb31juP3Y6H",
        "colab_type": "text"
      },
      "source": [
        "On the one hand, the Random Forest model works better for our credit scoring problem. Its performance is 4% higher. The reason for such a result is a small number of features and the compositional property of random forests. \n",
        "\n",
        "On the other hand, the main advantage of Logistic Regression is that we can interpret the feature impact on the model outcome."
      ]
    },
    {
      "cell_type": "markdown",
      "metadata": {
        "_uuid": "7abc9a83a1d1397008b96ccde205db245e24c75e",
        "id": "A6GJSGe83Y6I",
        "colab_type": "text"
      },
      "source": [
        "## Bagging"
      ]
    },
    {
      "cell_type": "markdown",
      "metadata": {
        "_uuid": "ec49a5aea8a4e0e9baf763eaaae7ad5c1fbd208b",
        "id": "-a0lgSH03Y6K",
        "colab_type": "text"
      },
      "source": [
        "Import modules and set up the parameters for bagging:"
      ]
    },
    {
      "cell_type": "code",
      "metadata": {
        "_uuid": "4fd5111469eada68466696685c756e743913834c",
        "id": "NGOdjoW93Y6L",
        "colab_type": "code",
        "colab": {}
      },
      "source": [
        "from sklearn.ensemble import BaggingClassifier\n",
        "from sklearn.model_selection import cross_val_score, RandomizedSearchCV\n",
        "\n",
        "parameters = {'max_features': [2, 3, 4], 'max_samples': [0.5, 0.7, 0.9], \n",
        "              'base_estimator__C': [0.0001, 0.001, 0.01, 1, 10, 100]}"
      ],
      "execution_count": 0,
      "outputs": []
    },
    {
      "cell_type": "code",
      "metadata": {
        "_uuid": "1c5bce17c4e45c3cf27cb16d678a3df3cb8e6a94",
        "scrolled": true,
        "id": "XPCFMMts3Y6S",
        "colab_type": "code",
        "colab": {
          "base_uri": "https://localhost:8080/",
          "height": 82
        },
        "outputId": "d0b9bcbf-5f4b-4840-b4b0-396f924aea2d"
      },
      "source": [
        "bg = BaggingClassifier(LogisticRegression(class_weight='balanced'),\n",
        "                       n_estimators=100, n_jobs=-1, random_state=42)\n",
        "r_grid_search = RandomizedSearchCV(bg, parameters, n_jobs=-1, \n",
        "                                   scoring='roc_auc', cv=skf, n_iter=20, random_state=1,\n",
        "                                   verbose=True)\n",
        "r_grid_search = r_grid_search.fit(X, y)"
      ],
      "execution_count": 35,
      "outputs": [
        {
          "output_type": "stream",
          "text": [
            "Fitting 5 folds for each of 20 candidates, totalling 100 fits\n"
          ],
          "name": "stdout"
        },
        {
          "output_type": "stream",
          "text": [
            "[Parallel(n_jobs=-1)]: Using backend LokyBackend with 2 concurrent workers.\n",
            "[Parallel(n_jobs=-1)]: Done  46 tasks      | elapsed:  6.0min\n",
            "[Parallel(n_jobs=-1)]: Done 100 out of 100 | elapsed: 13.6min finished\n"
          ],
          "name": "stderr"
        }
      ]
    },
    {
      "cell_type": "code",
      "metadata": {
        "_uuid": "928ea172bab6607627254ec23970263ac6472112",
        "id": "ZXEyZMFs3Y6Y",
        "colab_type": "code",
        "colab": {
          "base_uri": "https://localhost:8080/",
          "height": 33
        },
        "outputId": "e2edc7e7-437a-4823-da03-4f64799ac25e"
      },
      "source": [
        "r_grid_search.best_score_"
      ],
      "execution_count": 36,
      "outputs": [
        {
          "output_type": "execute_result",
          "data": {
            "text/plain": [
              "0.8074677872295736"
            ]
          },
          "metadata": {
            "tags": []
          },
          "execution_count": 36
        }
      ]
    },
    {
      "cell_type": "code",
      "metadata": {
        "_uuid": "2ab0b68d0c27439f03c9246ecea31a2bfb4740b6",
        "id": "xI7UKccc3Y6c",
        "colab_type": "code",
        "colab": {
          "base_uri": "https://localhost:8080/",
          "height": 33
        },
        "outputId": "43f86816-c0c6-4a8e-eae5-2615cca4dcb7"
      },
      "source": [
        "r_grid_search.best_estimator_"
      ],
      "execution_count": 40,
      "outputs": [
        {
          "output_type": "execute_result",
          "data": {
            "text/plain": [
              "{'base_estimator__C': 0.001, 'max_features': 2, 'max_samples': 0.7}"
            ]
          },
          "metadata": {
            "tags": []
          },
          "execution_count": 40
        }
      ]
    },
    {
      "cell_type": "markdown",
      "metadata": {
        "_uuid": "79d1270b7a0f79bfe7a4e418516ea98aeedcf279",
        "id": "9EWC5eDa3Y6h",
        "colab_type": "text"
      },
      "source": [
        "The advantage of *Random Forest* is that the trees in the composition are not highly correlated. Similarly, for bagging with logistic regression, the weaker correlation between single models, the higher the accuracy. Since in logistic regression there is almost no randomness, we have to change the set of features to minimize the correlation between our single models."
      ]
    }
  ]
}