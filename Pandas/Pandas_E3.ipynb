{
  "nbformat": 4,
  "nbformat_minor": 0,
  "metadata": {
    "colab": {
      "name": "Pandas_E3.ipynb",
      "provenance": [],
      "collapsed_sections": []
    },
    "kernelspec": {
      "name": "python3",
      "display_name": "Python 3"
    }
  },
  "cells": [
    {
      "cell_type": "code",
      "metadata": {
        "id": "cpbByMxMeg0U",
        "colab_type": "code",
        "colab": {}
      },
      "source": [
        "import pandas as pd"
      ],
      "execution_count": 0,
      "outputs": []
    },
    {
      "cell_type": "code",
      "metadata": {
        "id": "R_3geocfeqnt",
        "colab_type": "code",
        "colab": {}
      },
      "source": [
        "url = 'https://raw.githubusercontent.com/justmarkham/DAT8/master/data/chipotle.tsv'\n",
        "\n",
        "chipo = pd.read_csv(url, sep = '\\t')"
      ],
      "execution_count": 0,
      "outputs": []
    },
    {
      "cell_type": "code",
      "metadata": {
        "id": "Rn3j3l6eezIG",
        "colab_type": "code",
        "colab": {
          "base_uri": "https://localhost:8080/",
          "height": 33
        },
        "outputId": "9479def9-9231-4523-85c5-0a3aa55e2144"
      },
      "source": [
        "# clean the item_price column and transform it in a float\n",
        "prices = [float(value[1 : -1]) for value in chipo.item_price]\n",
        "\n",
        "# reassign the column with the cleaned prices\n",
        "chipo.item_price = prices\n",
        "\n",
        "# delete the duplicates in item_name and quantity\n",
        "chipo_filtered = chipo.drop_duplicates(['item_name','quantity'])\n",
        "\n",
        "# select only the products with quantity equals to 1\n",
        "chipo_one_prod = chipo_filtered[chipo_filtered.quantity == 1]\n",
        "\n",
        "chipo_one_prod[chipo_one_prod['item_price']>10].item_name.nunique()"
      ],
      "execution_count": 3,
      "outputs": [
        {
          "output_type": "execute_result",
          "data": {
            "text/plain": [
              "12"
            ]
          },
          "metadata": {
            "tags": []
          },
          "execution_count": 3
        }
      ]
    },
    {
      "cell_type": "code",
      "metadata": {
        "id": "pHQdatlXfJXq",
        "colab_type": "code",
        "colab": {
          "base_uri": "https://localhost:8080/",
          "height": 622
        },
        "outputId": "1f3823c4-cefe-4d4e-8a3b-1f5d0cf166d6"
      },
      "source": [
        "#Price of  Each item\n",
        "#chipo[(chipo['item_name'] == 'Chicken Bowl') & (chipo['quantity'] == 1)]\n",
        "chipo_one_prod = chipo_filtered[chipo_filtered.quantity == 1]\n",
        "price_per_item = chipo_one_prod[['item_name', 'item_price']]\n",
        "#sort the values from the most to less expensive\n",
        "price_per_item.sort_values(by = \"item_price\", ascending = False).head(20)"
      ],
      "execution_count": 10,
      "outputs": [
        {
          "output_type": "execute_result",
          "data": {
            "text/html": [
              "<div>\n",
              "<style scoped>\n",
              "    .dataframe tbody tr th:only-of-type {\n",
              "        vertical-align: middle;\n",
              "    }\n",
              "\n",
              "    .dataframe tbody tr th {\n",
              "        vertical-align: top;\n",
              "    }\n",
              "\n",
              "    .dataframe thead th {\n",
              "        text-align: right;\n",
              "    }\n",
              "</style>\n",
              "<table border=\"1\" class=\"dataframe\">\n",
              "  <thead>\n",
              "    <tr style=\"text-align: right;\">\n",
              "      <th></th>\n",
              "      <th>item_name</th>\n",
              "      <th>item_price</th>\n",
              "    </tr>\n",
              "  </thead>\n",
              "  <tbody>\n",
              "    <tr>\n",
              "      <th>606</th>\n",
              "      <td>Steak Salad Bowl</td>\n",
              "      <td>11.89</td>\n",
              "    </tr>\n",
              "    <tr>\n",
              "      <th>1229</th>\n",
              "      <td>Barbacoa Salad Bowl</td>\n",
              "      <td>11.89</td>\n",
              "    </tr>\n",
              "    <tr>\n",
              "      <th>1132</th>\n",
              "      <td>Carnitas Salad Bowl</td>\n",
              "      <td>11.89</td>\n",
              "    </tr>\n",
              "    <tr>\n",
              "      <th>7</th>\n",
              "      <td>Steak Burrito</td>\n",
              "      <td>11.75</td>\n",
              "    </tr>\n",
              "    <tr>\n",
              "      <th>168</th>\n",
              "      <td>Barbacoa Crispy Tacos</td>\n",
              "      <td>11.75</td>\n",
              "    </tr>\n",
              "    <tr>\n",
              "      <th>39</th>\n",
              "      <td>Barbacoa Bowl</td>\n",
              "      <td>11.75</td>\n",
              "    </tr>\n",
              "    <tr>\n",
              "      <th>738</th>\n",
              "      <td>Veggie Soft Tacos</td>\n",
              "      <td>11.25</td>\n",
              "    </tr>\n",
              "    <tr>\n",
              "      <th>186</th>\n",
              "      <td>Veggie Salad Bowl</td>\n",
              "      <td>11.25</td>\n",
              "    </tr>\n",
              "    <tr>\n",
              "      <th>62</th>\n",
              "      <td>Veggie Bowl</td>\n",
              "      <td>11.25</td>\n",
              "    </tr>\n",
              "    <tr>\n",
              "      <th>57</th>\n",
              "      <td>Veggie Burrito</td>\n",
              "      <td>11.25</td>\n",
              "    </tr>\n",
              "    <tr>\n",
              "      <th>250</th>\n",
              "      <td>Chicken Salad</td>\n",
              "      <td>10.98</td>\n",
              "    </tr>\n",
              "    <tr>\n",
              "      <th>5</th>\n",
              "      <td>Chicken Bowl</td>\n",
              "      <td>10.98</td>\n",
              "    </tr>\n",
              "    <tr>\n",
              "      <th>8</th>\n",
              "      <td>Steak Soft Tacos</td>\n",
              "      <td>9.25</td>\n",
              "    </tr>\n",
              "    <tr>\n",
              "      <th>554</th>\n",
              "      <td>Carnitas Crispy Tacos</td>\n",
              "      <td>9.25</td>\n",
              "    </tr>\n",
              "    <tr>\n",
              "      <th>237</th>\n",
              "      <td>Carnitas Soft Tacos</td>\n",
              "      <td>9.25</td>\n",
              "    </tr>\n",
              "    <tr>\n",
              "      <th>56</th>\n",
              "      <td>Barbacoa Soft Tacos</td>\n",
              "      <td>9.25</td>\n",
              "    </tr>\n",
              "    <tr>\n",
              "      <th>92</th>\n",
              "      <td>Steak Crispy Tacos</td>\n",
              "      <td>9.25</td>\n",
              "    </tr>\n",
              "    <tr>\n",
              "      <th>664</th>\n",
              "      <td>Steak Salad</td>\n",
              "      <td>8.99</td>\n",
              "    </tr>\n",
              "    <tr>\n",
              "      <th>54</th>\n",
              "      <td>Steak Bowl</td>\n",
              "      <td>8.99</td>\n",
              "    </tr>\n",
              "    <tr>\n",
              "      <th>3750</th>\n",
              "      <td>Carnitas Salad</td>\n",
              "      <td>8.99</td>\n",
              "    </tr>\n",
              "  </tbody>\n",
              "</table>\n",
              "</div>"
            ],
            "text/plain": [
              "                  item_name  item_price\n",
              "606        Steak Salad Bowl       11.89\n",
              "1229    Barbacoa Salad Bowl       11.89\n",
              "1132    Carnitas Salad Bowl       11.89\n",
              "7             Steak Burrito       11.75\n",
              "168   Barbacoa Crispy Tacos       11.75\n",
              "39            Barbacoa Bowl       11.75\n",
              "738       Veggie Soft Tacos       11.25\n",
              "186       Veggie Salad Bowl       11.25\n",
              "62              Veggie Bowl       11.25\n",
              "57           Veggie Burrito       11.25\n",
              "250           Chicken Salad       10.98\n",
              "5              Chicken Bowl       10.98\n",
              "8          Steak Soft Tacos        9.25\n",
              "554   Carnitas Crispy Tacos        9.25\n",
              "237     Carnitas Soft Tacos        9.25\n",
              "56      Barbacoa Soft Tacos        9.25\n",
              "92       Steak Crispy Tacos        9.25\n",
              "664             Steak Salad        8.99\n",
              "54               Steak Bowl        8.99\n",
              "3750         Carnitas Salad        8.99"
            ]
          },
          "metadata": {
            "tags": []
          },
          "execution_count": 10
        }
      ]
    },
    {
      "cell_type": "code",
      "metadata": {
        "id": "jAJeR2Hqgi-G",
        "colab_type": "code",
        "colab": {
          "base_uri": "https://localhost:8080/",
          "height": 115
        },
        "outputId": "85b1dfcc-e865-47d1-bf26-6013855514f3"
      },
      "source": [
        "chipo_salad = chipo[chipo.item_name == \"Veggie Salad Bowl\"].sum()\n",
        "chipo_salad"
      ],
      "execution_count": 12,
      "outputs": [
        {
          "output_type": "execute_result",
          "data": {
            "text/plain": [
              "order_id                                                          17303\n",
              "quantity                                                             18\n",
              "item_name             Veggie Salad BowlVeggie Salad BowlVeggie Salad...\n",
              "choice_description    [Fresh Tomato Salsa, [Fajita Vegetables, Rice,...\n",
              "item_price                                                        182.5\n",
              "dtype: object"
            ]
          },
          "metadata": {
            "tags": []
          },
          "execution_count": 12
        }
      ]
    },
    {
      "cell_type": "code",
      "metadata": {
        "id": "xVx8FY0cgxut",
        "colab_type": "code",
        "colab": {
          "base_uri": "https://localhost:8080/",
          "height": 33
        },
        "outputId": "8dce4968-0abf-4eb2-db44-b6b3dba43aea"
      },
      "source": [
        "chipo_drink_steak_bowl = chipo[(chipo.item_name == \"Canned Soda\") & (chipo.quantity > 1)]\n",
        "chipo_drink_steak_bowl.count()['order_id']"
      ],
      "execution_count": 15,
      "outputs": [
        {
          "output_type": "execute_result",
          "data": {
            "text/plain": [
              "20"
            ]
          },
          "metadata": {
            "tags": []
          },
          "execution_count": 15
        }
      ]
    }
  ]
}