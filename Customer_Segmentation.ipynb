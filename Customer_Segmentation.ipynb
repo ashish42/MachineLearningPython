{
  "nbformat": 4,
  "nbformat_minor": 0,
  "metadata": {
    "colab": {
      "name": "Customer_Segmentation.ipynb",
      "provenance": [],
      "collapsed_sections": [],
      "include_colab_link": true
    },
    "kernelspec": {
      "name": "python3",
      "display_name": "Python 3"
    }
  },
  "cells": [
    {
      "cell_type": "markdown",
      "metadata": {
        "id": "view-in-github",
        "colab_type": "text"
      },
      "source": [
        "<a href=\"https://colab.research.google.com/github/ashish42/MachineLearningPython/blob/master/Customer_Segmentation.ipynb\" target=\"_parent\"><img src=\"https://colab.research.google.com/assets/colab-badge.svg\" alt=\"Open In Colab\"/></a>"
      ]
    },
    {
      "cell_type": "markdown",
      "metadata": {
        "id": "7r_JgdCaQNv6",
        "colab_type": "text"
      },
      "source": [
        "#**Customer Segmentation in Python**\n"
      ]
    },
    {
      "cell_type": "code",
      "metadata": {
        "id": "L_HnVdQ4QIbV",
        "colab_type": "code",
        "colab": {}
      },
      "source": [
        "import pandas as pd\n",
        "import warnings\n",
        "warnings.filterwarnings('ignore')\n",
        "df = pd.read_excel(\"http://archive.ics.uci.edu/ml/machine-learning-databases/00352/Online%20Retail.xlsx\")\n",
        "df.head()\n",
        "df1 = df"
      ],
      "execution_count": 0,
      "outputs": []
    },
    {
      "cell_type": "code",
      "metadata": {
        "id": "IqomXmeoRxz6",
        "colab_type": "code",
        "colab": {
          "base_uri": "https://localhost:8080/",
          "height": 191
        },
        "outputId": "4b4b1869-a486-40d1-fb28-b7bcbcc401aa"
      },
      "source": [
        "df.head()"
      ],
      "execution_count": 4,
      "outputs": [
        {
          "output_type": "execute_result",
          "data": {
            "text/html": [
              "<div>\n",
              "<style scoped>\n",
              "    .dataframe tbody tr th:only-of-type {\n",
              "        vertical-align: middle;\n",
              "    }\n",
              "\n",
              "    .dataframe tbody tr th {\n",
              "        vertical-align: top;\n",
              "    }\n",
              "\n",
              "    .dataframe thead th {\n",
              "        text-align: right;\n",
              "    }\n",
              "</style>\n",
              "<table border=\"1\" class=\"dataframe\">\n",
              "  <thead>\n",
              "    <tr style=\"text-align: right;\">\n",
              "      <th></th>\n",
              "      <th>InvoiceNo</th>\n",
              "      <th>StockCode</th>\n",
              "      <th>Description</th>\n",
              "      <th>Quantity</th>\n",
              "      <th>InvoiceDate</th>\n",
              "      <th>UnitPrice</th>\n",
              "      <th>CustomerID</th>\n",
              "      <th>Country</th>\n",
              "    </tr>\n",
              "  </thead>\n",
              "  <tbody>\n",
              "    <tr>\n",
              "      <th>0</th>\n",
              "      <td>536365</td>\n",
              "      <td>85123A</td>\n",
              "      <td>WHITE HANGING HEART T-LIGHT HOLDER</td>\n",
              "      <td>6</td>\n",
              "      <td>2010-12-01 08:26:00</td>\n",
              "      <td>2.55</td>\n",
              "      <td>17850.0</td>\n",
              "      <td>United Kingdom</td>\n",
              "    </tr>\n",
              "    <tr>\n",
              "      <th>1</th>\n",
              "      <td>536365</td>\n",
              "      <td>71053</td>\n",
              "      <td>WHITE METAL LANTERN</td>\n",
              "      <td>6</td>\n",
              "      <td>2010-12-01 08:26:00</td>\n",
              "      <td>3.39</td>\n",
              "      <td>17850.0</td>\n",
              "      <td>United Kingdom</td>\n",
              "    </tr>\n",
              "    <tr>\n",
              "      <th>2</th>\n",
              "      <td>536365</td>\n",
              "      <td>84406B</td>\n",
              "      <td>CREAM CUPID HEARTS COAT HANGER</td>\n",
              "      <td>8</td>\n",
              "      <td>2010-12-01 08:26:00</td>\n",
              "      <td>2.75</td>\n",
              "      <td>17850.0</td>\n",
              "      <td>United Kingdom</td>\n",
              "    </tr>\n",
              "    <tr>\n",
              "      <th>3</th>\n",
              "      <td>536365</td>\n",
              "      <td>84029G</td>\n",
              "      <td>KNITTED UNION FLAG HOT WATER BOTTLE</td>\n",
              "      <td>6</td>\n",
              "      <td>2010-12-01 08:26:00</td>\n",
              "      <td>3.39</td>\n",
              "      <td>17850.0</td>\n",
              "      <td>United Kingdom</td>\n",
              "    </tr>\n",
              "    <tr>\n",
              "      <th>4</th>\n",
              "      <td>536365</td>\n",
              "      <td>84029E</td>\n",
              "      <td>RED WOOLLY HOTTIE WHITE HEART.</td>\n",
              "      <td>6</td>\n",
              "      <td>2010-12-01 08:26:00</td>\n",
              "      <td>3.39</td>\n",
              "      <td>17850.0</td>\n",
              "      <td>United Kingdom</td>\n",
              "    </tr>\n",
              "  </tbody>\n",
              "</table>\n",
              "</div>"
            ],
            "text/plain": [
              "  InvoiceNo StockCode  ... CustomerID         Country\n",
              "0    536365    85123A  ...    17850.0  United Kingdom\n",
              "1    536365     71053  ...    17850.0  United Kingdom\n",
              "2    536365    84406B  ...    17850.0  United Kingdom\n",
              "3    536365    84029G  ...    17850.0  United Kingdom\n",
              "4    536365    84029E  ...    17850.0  United Kingdom\n",
              "\n",
              "[5 rows x 8 columns]"
            ]
          },
          "metadata": {
            "tags": []
          },
          "execution_count": 4
        }
      ]
    },
    {
      "cell_type": "markdown",
      "metadata": {
        "id": "xi-fY5BEQOB0",
        "colab_type": "text"
      },
      "source": [
        "## Data Exploration \n",
        "\n",
        "1.   Missing Values \n",
        "2.   Customer distribution acroos the countries \n",
        "3.   Quantity & Price should be > 0\n",
        "4.   Invoice date less than today's date \n",
        "\n"
      ]
    },
    {
      "cell_type": "code",
      "metadata": {
        "id": "GjQALkZ8Rx2t",
        "colab_type": "code",
        "colab": {
          "base_uri": "https://localhost:8080/",
          "height": 33
        },
        "outputId": "61e48541-d07b-4958-9ea5-5218c952a580"
      },
      "source": [
        "df.Country.nunique()"
      ],
      "execution_count": 4,
      "outputs": [
        {
          "output_type": "execute_result",
          "data": {
            "text/plain": [
              "38"
            ]
          },
          "metadata": {
            "tags": []
          },
          "execution_count": 4
        }
      ]
    },
    {
      "cell_type": "code",
      "metadata": {
        "id": "ZaYasqNwSxn1",
        "colab_type": "code",
        "colab": {
          "base_uri": "https://localhost:8080/",
          "height": 147
        },
        "outputId": "22677f5d-28eb-4d28-e9b1-a95f6a5e0a0f"
      },
      "source": [
        "df.Country.unique()"
      ],
      "execution_count": 5,
      "outputs": [
        {
          "output_type": "execute_result",
          "data": {
            "text/plain": [
              "array(['United Kingdom', 'France', 'Australia', 'Netherlands', 'Germany',\n",
              "       'Norway', 'EIRE', 'Switzerland', 'Spain', 'Poland', 'Portugal',\n",
              "       'Italy', 'Belgium', 'Lithuania', 'Japan', 'Iceland',\n",
              "       'Channel Islands', 'Denmark', 'Cyprus', 'Sweden', 'Austria',\n",
              "       'Israel', 'Finland', 'Bahrain', 'Greece', 'Hong Kong', 'Singapore',\n",
              "       'Lebanon', 'United Arab Emirates', 'Saudi Arabia',\n",
              "       'Czech Republic', 'Canada', 'Unspecified', 'Brazil', 'USA',\n",
              "       'European Community', 'Malta', 'RSA'], dtype=object)"
            ]
          },
          "metadata": {
            "tags": []
          },
          "execution_count": 5
        }
      ]
    },
    {
      "cell_type": "markdown",
      "metadata": {
        "id": "hWTlp7R2QOFF",
        "colab_type": "text"
      },
      "source": [
        ""
      ]
    },
    {
      "cell_type": "code",
      "metadata": {
        "id": "dgt4tZfqTU7q",
        "colab_type": "code",
        "colab": {
          "base_uri": "https://localhost:8080/",
          "height": 1000
        },
        "outputId": "64c6cdda-0462-43d9-a738-c452e8c9bee7"
      },
      "source": [
        "(df[['Country','CustomerID']].drop_duplicates()).groupby(['Country'])['CustomerID'].aggregate('count').reset_index().sort_values('CustomerID', ascending=False)"
      ],
      "execution_count": 14,
      "outputs": [
        {
          "output_type": "execute_result",
          "data": {
            "text/html": [
              "<div>\n",
              "<style scoped>\n",
              "    .dataframe tbody tr th:only-of-type {\n",
              "        vertical-align: middle;\n",
              "    }\n",
              "\n",
              "    .dataframe tbody tr th {\n",
              "        vertical-align: top;\n",
              "    }\n",
              "\n",
              "    .dataframe thead th {\n",
              "        text-align: right;\n",
              "    }\n",
              "</style>\n",
              "<table border=\"1\" class=\"dataframe\">\n",
              "  <thead>\n",
              "    <tr style=\"text-align: right;\">\n",
              "      <th></th>\n",
              "      <th>Country</th>\n",
              "      <th>CustomerID</th>\n",
              "    </tr>\n",
              "  </thead>\n",
              "  <tbody>\n",
              "    <tr>\n",
              "      <th>36</th>\n",
              "      <td>United Kingdom</td>\n",
              "      <td>3950</td>\n",
              "    </tr>\n",
              "    <tr>\n",
              "      <th>14</th>\n",
              "      <td>Germany</td>\n",
              "      <td>95</td>\n",
              "    </tr>\n",
              "    <tr>\n",
              "      <th>13</th>\n",
              "      <td>France</td>\n",
              "      <td>87</td>\n",
              "    </tr>\n",
              "    <tr>\n",
              "      <th>31</th>\n",
              "      <td>Spain</td>\n",
              "      <td>31</td>\n",
              "    </tr>\n",
              "    <tr>\n",
              "      <th>3</th>\n",
              "      <td>Belgium</td>\n",
              "      <td>25</td>\n",
              "    </tr>\n",
              "    <tr>\n",
              "      <th>33</th>\n",
              "      <td>Switzerland</td>\n",
              "      <td>21</td>\n",
              "    </tr>\n",
              "    <tr>\n",
              "      <th>27</th>\n",
              "      <td>Portugal</td>\n",
              "      <td>19</td>\n",
              "    </tr>\n",
              "    <tr>\n",
              "      <th>19</th>\n",
              "      <td>Italy</td>\n",
              "      <td>15</td>\n",
              "    </tr>\n",
              "    <tr>\n",
              "      <th>12</th>\n",
              "      <td>Finland</td>\n",
              "      <td>12</td>\n",
              "    </tr>\n",
              "    <tr>\n",
              "      <th>1</th>\n",
              "      <td>Austria</td>\n",
              "      <td>11</td>\n",
              "    </tr>\n",
              "    <tr>\n",
              "      <th>25</th>\n",
              "      <td>Norway</td>\n",
              "      <td>10</td>\n",
              "    </tr>\n",
              "    <tr>\n",
              "      <th>24</th>\n",
              "      <td>Netherlands</td>\n",
              "      <td>9</td>\n",
              "    </tr>\n",
              "    <tr>\n",
              "      <th>0</th>\n",
              "      <td>Australia</td>\n",
              "      <td>9</td>\n",
              "    </tr>\n",
              "    <tr>\n",
              "      <th>6</th>\n",
              "      <td>Channel Islands</td>\n",
              "      <td>9</td>\n",
              "    </tr>\n",
              "    <tr>\n",
              "      <th>9</th>\n",
              "      <td>Denmark</td>\n",
              "      <td>9</td>\n",
              "    </tr>\n",
              "    <tr>\n",
              "      <th>7</th>\n",
              "      <td>Cyprus</td>\n",
              "      <td>8</td>\n",
              "    </tr>\n",
              "    <tr>\n",
              "      <th>32</th>\n",
              "      <td>Sweden</td>\n",
              "      <td>8</td>\n",
              "    </tr>\n",
              "    <tr>\n",
              "      <th>20</th>\n",
              "      <td>Japan</td>\n",
              "      <td>8</td>\n",
              "    </tr>\n",
              "    <tr>\n",
              "      <th>26</th>\n",
              "      <td>Poland</td>\n",
              "      <td>6</td>\n",
              "    </tr>\n",
              "    <tr>\n",
              "      <th>34</th>\n",
              "      <td>USA</td>\n",
              "      <td>4</td>\n",
              "    </tr>\n",
              "    <tr>\n",
              "      <th>5</th>\n",
              "      <td>Canada</td>\n",
              "      <td>4</td>\n",
              "    </tr>\n",
              "    <tr>\n",
              "      <th>37</th>\n",
              "      <td>Unspecified</td>\n",
              "      <td>4</td>\n",
              "    </tr>\n",
              "    <tr>\n",
              "      <th>18</th>\n",
              "      <td>Israel</td>\n",
              "      <td>4</td>\n",
              "    </tr>\n",
              "    <tr>\n",
              "      <th>15</th>\n",
              "      <td>Greece</td>\n",
              "      <td>4</td>\n",
              "    </tr>\n",
              "    <tr>\n",
              "      <th>10</th>\n",
              "      <td>EIRE</td>\n",
              "      <td>3</td>\n",
              "    </tr>\n",
              "    <tr>\n",
              "      <th>23</th>\n",
              "      <td>Malta</td>\n",
              "      <td>2</td>\n",
              "    </tr>\n",
              "    <tr>\n",
              "      <th>35</th>\n",
              "      <td>United Arab Emirates</td>\n",
              "      <td>2</td>\n",
              "    </tr>\n",
              "    <tr>\n",
              "      <th>2</th>\n",
              "      <td>Bahrain</td>\n",
              "      <td>2</td>\n",
              "    </tr>\n",
              "    <tr>\n",
              "      <th>22</th>\n",
              "      <td>Lithuania</td>\n",
              "      <td>1</td>\n",
              "    </tr>\n",
              "    <tr>\n",
              "      <th>8</th>\n",
              "      <td>Czech Republic</td>\n",
              "      <td>1</td>\n",
              "    </tr>\n",
              "    <tr>\n",
              "      <th>21</th>\n",
              "      <td>Lebanon</td>\n",
              "      <td>1</td>\n",
              "    </tr>\n",
              "    <tr>\n",
              "      <th>28</th>\n",
              "      <td>RSA</td>\n",
              "      <td>1</td>\n",
              "    </tr>\n",
              "    <tr>\n",
              "      <th>29</th>\n",
              "      <td>Saudi Arabia</td>\n",
              "      <td>1</td>\n",
              "    </tr>\n",
              "    <tr>\n",
              "      <th>30</th>\n",
              "      <td>Singapore</td>\n",
              "      <td>1</td>\n",
              "    </tr>\n",
              "    <tr>\n",
              "      <th>17</th>\n",
              "      <td>Iceland</td>\n",
              "      <td>1</td>\n",
              "    </tr>\n",
              "    <tr>\n",
              "      <th>4</th>\n",
              "      <td>Brazil</td>\n",
              "      <td>1</td>\n",
              "    </tr>\n",
              "    <tr>\n",
              "      <th>11</th>\n",
              "      <td>European Community</td>\n",
              "      <td>1</td>\n",
              "    </tr>\n",
              "    <tr>\n",
              "      <th>16</th>\n",
              "      <td>Hong Kong</td>\n",
              "      <td>0</td>\n",
              "    </tr>\n",
              "  </tbody>\n",
              "</table>\n",
              "</div>"
            ],
            "text/plain": [
              "                 Country  CustomerID\n",
              "36        United Kingdom        3950\n",
              "14               Germany          95\n",
              "13                France          87\n",
              "31                 Spain          31\n",
              "3                Belgium          25\n",
              "33           Switzerland          21\n",
              "27              Portugal          19\n",
              "19                 Italy          15\n",
              "12               Finland          12\n",
              "1                Austria          11\n",
              "25                Norway          10\n",
              "24           Netherlands           9\n",
              "0              Australia           9\n",
              "6        Channel Islands           9\n",
              "9                Denmark           9\n",
              "7                 Cyprus           8\n",
              "32                Sweden           8\n",
              "20                 Japan           8\n",
              "26                Poland           6\n",
              "34                   USA           4\n",
              "5                 Canada           4\n",
              "37           Unspecified           4\n",
              "18                Israel           4\n",
              "15                Greece           4\n",
              "10                  EIRE           3\n",
              "23                 Malta           2\n",
              "35  United Arab Emirates           2\n",
              "2                Bahrain           2\n",
              "22             Lithuania           1\n",
              "8         Czech Republic           1\n",
              "21               Lebanon           1\n",
              "28                   RSA           1\n",
              "29          Saudi Arabia           1\n",
              "30             Singapore           1\n",
              "17               Iceland           1\n",
              "4                 Brazil           1\n",
              "11    European Community           1\n",
              "16             Hong Kong           0"
            ]
          },
          "metadata": {
            "tags": []
          },
          "execution_count": 14
        }
      ]
    },
    {
      "cell_type": "markdown",
      "metadata": {
        "id": "sEfEsYFZULB0",
        "colab_type": "text"
      },
      "source": [
        "More than 90% of the customers in the data are from the United Kingdom, so we will restrict our analysis to the UK only."
      ]
    },
    {
      "cell_type": "code",
      "metadata": {
        "id": "B7fDjf7vUKkE",
        "colab_type": "code",
        "colab": {}
      },
      "source": [
        "df1 = df1.loc[df1['Country'] == 'United Kingdom']"
      ],
      "execution_count": 0,
      "outputs": []
    },
    {
      "cell_type": "code",
      "metadata": {
        "id": "RqXQ0ScGUzsb",
        "colab_type": "code",
        "colab": {
          "base_uri": "https://localhost:8080/",
          "height": 163
        },
        "outputId": "4ece38d7-18dd-498d-976d-0d3dacd36483"
      },
      "source": [
        "df1.isnull().sum(axis = 0)"
      ],
      "execution_count": 6,
      "outputs": [
        {
          "output_type": "execute_result",
          "data": {
            "text/plain": [
              "InvoiceNo           0\n",
              "StockCode           0\n",
              "Description      1454\n",
              "Quantity            0\n",
              "InvoiceDate         0\n",
              "UnitPrice           0\n",
              "CustomerID     133600\n",
              "Country             0\n",
              "dtype: int64"
            ]
          },
          "metadata": {
            "tags": []
          },
          "execution_count": 6
        }
      ]
    },
    {
      "cell_type": "markdown",
      "metadata": {
        "id": "cNAgBPcJVFIw",
        "colab_type": "text"
      },
      "source": [
        "There are 133,600 missing values in the CustomerID column, and since our analysis is based on customers, we will remove these missing values."
      ]
    },
    {
      "cell_type": "code",
      "metadata": {
        "id": "VJpmliWSVGGn",
        "colab_type": "code",
        "colab": {}
      },
      "source": [
        "df1 = df1[pd.notnull(df1['CustomerID'])]"
      ],
      "execution_count": 0,
      "outputs": []
    },
    {
      "cell_type": "code",
      "metadata": {
        "id": "CkRLCNkWS2rw",
        "colab_type": "code",
        "colab": {
          "base_uri": "https://localhost:8080/",
          "height": 33
        },
        "outputId": "1fedb935-6c4d-4dd2-883e-384e455bfaa1"
      },
      "source": [
        "df1['Quantity'].min()"
      ],
      "execution_count": 8,
      "outputs": [
        {
          "output_type": "execute_result",
          "data": {
            "text/plain": [
              "-80995"
            ]
          },
          "metadata": {
            "tags": []
          },
          "execution_count": 8
        }
      ]
    },
    {
      "cell_type": "code",
      "metadata": {
        "id": "8XMVBponVbWp",
        "colab_type": "code",
        "colab": {
          "base_uri": "https://localhost:8080/",
          "height": 228
        },
        "outputId": "a0c60dfc-10b6-41b9-a9dc-17ffcd6d936b"
      },
      "source": [
        "df1 = df1[(df1['Quantity']>0)]\n",
        "df1.shape\n",
        "df1.info()"
      ],
      "execution_count": 9,
      "outputs": [
        {
          "output_type": "stream",
          "text": [
            "<class 'pandas.core.frame.DataFrame'>\n",
            "Int64Index: 354345 entries, 0 to 541893\n",
            "Data columns (total 8 columns):\n",
            "InvoiceNo      354345 non-null object\n",
            "StockCode      354345 non-null object\n",
            "Description    354345 non-null object\n",
            "Quantity       354345 non-null int64\n",
            "InvoiceDate    354345 non-null datetime64[ns]\n",
            "UnitPrice      354345 non-null float64\n",
            "CustomerID     354345 non-null float64\n",
            "Country        354345 non-null object\n",
            "dtypes: datetime64[ns](1), float64(2), int64(1), object(4)\n",
            "memory usage: 24.3+ MB\n"
          ],
          "name": "stdout"
        }
      ]
    },
    {
      "cell_type": "code",
      "metadata": {
        "id": "oMBIqhdGVwqH",
        "colab_type": "code",
        "colab": {
          "base_uri": "https://localhost:8080/",
          "height": 147
        },
        "outputId": "0993eaaa-8f88-4ea6-c8ce-df11cf169a96"
      },
      "source": [
        "def unique_counts(df1):\n",
        "   for i in df1.columns:\n",
        "       count = df1[i].nunique()\n",
        "       print(i, \": \", count)\n",
        "unique_counts(df1)"
      ],
      "execution_count": 10,
      "outputs": [
        {
          "output_type": "stream",
          "text": [
            "InvoiceNo :  16649\n",
            "StockCode :  3645\n",
            "Description :  3844\n",
            "Quantity :  294\n",
            "InvoiceDate :  15615\n",
            "UnitPrice :  403\n",
            "CustomerID :  3921\n",
            "Country :  1\n"
          ],
          "name": "stdout"
        }
      ]
    },
    {
      "cell_type": "code",
      "metadata": {
        "id": "r4V6ICfoVy6b",
        "colab_type": "code",
        "colab": {}
      },
      "source": [
        "#add column for total price \n",
        "df1['TotalPrice'] = df1['Quantity'] * df1['UnitPrice']"
      ],
      "execution_count": 0,
      "outputs": []
    },
    {
      "cell_type": "code",
      "metadata": {
        "id": "wXBQMMxJVy9t",
        "colab_type": "code",
        "colab": {
          "base_uri": "https://localhost:8080/",
          "height": 33
        },
        "outputId": "91261676-9132-43ce-871a-414429d7f3f1"
      },
      "source": [
        "df1['InvoiceDate'].min()\n",
        "df1['InvoiceDate'].max()"
      ],
      "execution_count": 12,
      "outputs": [
        {
          "output_type": "execute_result",
          "data": {
            "text/plain": [
              "Timestamp('2011-12-09 12:49:00')"
            ]
          },
          "metadata": {
            "tags": []
          },
          "execution_count": 12
        }
      ]
    },
    {
      "cell_type": "code",
      "metadata": {
        "id": "9lEwQnBFVzAq",
        "colab_type": "code",
        "colab": {
          "base_uri": "https://localhost:8080/",
          "height": 33
        },
        "outputId": "24234c81-228d-4ff8-9797-8a932fa55033"
      },
      "source": [
        "df1['InvoiceDate'].max()"
      ],
      "execution_count": 28,
      "outputs": [
        {
          "output_type": "execute_result",
          "data": {
            "text/plain": [
              "Timestamp('2011-12-09 12:49:00')"
            ]
          },
          "metadata": {
            "tags": []
          },
          "execution_count": 28
        }
      ]
    },
    {
      "cell_type": "markdown",
      "metadata": {
        "id": "WDZKHj_vWLgN",
        "colab_type": "text"
      },
      "source": [
        "Since last date is 2011-12-09 , we will consider 2011-12-10 to calculate the recency"
      ]
    },
    {
      "cell_type": "code",
      "metadata": {
        "id": "ddtKdwFNWKDU",
        "colab_type": "code",
        "colab": {}
      },
      "source": [
        "import datetime as dt\n",
        "NOW = dt.datetime(2011,12,10)\n",
        "df1['InvoiceDate'] = pd.to_datetime(df1['InvoiceDate'])"
      ],
      "execution_count": 0,
      "outputs": []
    },
    {
      "cell_type": "markdown",
      "metadata": {
        "id": "8PR65ussW5wd",
        "colab_type": "text"
      },
      "source": [
        "##**RFM Customer Segmentation**"
      ]
    },
    {
      "cell_type": "markdown",
      "metadata": {
        "id": "JU7iK4SOW5sK",
        "colab_type": "text"
      },
      "source": [
        "###Create RFM Table \n"
      ]
    },
    {
      "cell_type": "code",
      "metadata": {
        "id": "MMtx1h-sWKHw",
        "colab_type": "code",
        "colab": {}
      },
      "source": [
        "rfmTable = df1.groupby('CustomerID').agg({'InvoiceDate': lambda x: (NOW - x.max()).days, 'InvoiceNo': lambda x: len(x), 'TotalPrice': lambda x: x.sum()})\n",
        "rfmTable['InvoiceDate'] = rfmTable['InvoiceDate'].astype(int)\n",
        "rfmTable.rename(columns={'InvoiceDate': 'recency', \n",
        "                         'InvoiceNo': 'frequency', \n",
        "                         'TotalPrice': 'monetary_value'}, inplace=True)"
      ],
      "execution_count": 0,
      "outputs": []
    },
    {
      "cell_type": "markdown",
      "metadata": {
        "id": "7igNTXr9XR69",
        "colab_type": "text"
      },
      "source": [
        "###Calculate RFM metrics for each customer"
      ]
    },
    {
      "cell_type": "code",
      "metadata": {
        "id": "yxf6jpR5XaOz",
        "colab_type": "code",
        "colab": {
          "base_uri": "https://localhost:8080/",
          "height": 220
        },
        "outputId": "51b25ee4-c718-444a-d90e-b552c7f75f7e"
      },
      "source": [
        "rfmTable.head()"
      ],
      "execution_count": 15,
      "outputs": [
        {
          "output_type": "execute_result",
          "data": {
            "text/html": [
              "<div>\n",
              "<style scoped>\n",
              "    .dataframe tbody tr th:only-of-type {\n",
              "        vertical-align: middle;\n",
              "    }\n",
              "\n",
              "    .dataframe tbody tr th {\n",
              "        vertical-align: top;\n",
              "    }\n",
              "\n",
              "    .dataframe thead th {\n",
              "        text-align: right;\n",
              "    }\n",
              "</style>\n",
              "<table border=\"1\" class=\"dataframe\">\n",
              "  <thead>\n",
              "    <tr style=\"text-align: right;\">\n",
              "      <th></th>\n",
              "      <th>recency</th>\n",
              "      <th>frequency</th>\n",
              "      <th>monetary_value</th>\n",
              "    </tr>\n",
              "    <tr>\n",
              "      <th>CustomerID</th>\n",
              "      <th></th>\n",
              "      <th></th>\n",
              "      <th></th>\n",
              "    </tr>\n",
              "  </thead>\n",
              "  <tbody>\n",
              "    <tr>\n",
              "      <th>12346.0</th>\n",
              "      <td>325</td>\n",
              "      <td>1</td>\n",
              "      <td>77183.60</td>\n",
              "    </tr>\n",
              "    <tr>\n",
              "      <th>12747.0</th>\n",
              "      <td>2</td>\n",
              "      <td>103</td>\n",
              "      <td>4196.01</td>\n",
              "    </tr>\n",
              "    <tr>\n",
              "      <th>12748.0</th>\n",
              "      <td>0</td>\n",
              "      <td>4596</td>\n",
              "      <td>33719.73</td>\n",
              "    </tr>\n",
              "    <tr>\n",
              "      <th>12749.0</th>\n",
              "      <td>3</td>\n",
              "      <td>199</td>\n",
              "      <td>4090.88</td>\n",
              "    </tr>\n",
              "    <tr>\n",
              "      <th>12820.0</th>\n",
              "      <td>3</td>\n",
              "      <td>59</td>\n",
              "      <td>942.34</td>\n",
              "    </tr>\n",
              "  </tbody>\n",
              "</table>\n",
              "</div>"
            ],
            "text/plain": [
              "            recency  frequency  monetary_value\n",
              "CustomerID                                    \n",
              "12346.0         325          1        77183.60\n",
              "12747.0           2        103         4196.01\n",
              "12748.0           0       4596        33719.73\n",
              "12749.0           3        199         4090.88\n",
              "12820.0           3         59          942.34"
            ]
          },
          "metadata": {
            "tags": []
          },
          "execution_count": 15
        }
      ]
    },
    {
      "cell_type": "markdown",
      "metadata": {
        "id": "okpxNcM5wEup",
        "colab_type": "text"
      },
      "source": [
        "### Split the metrics\n",
        "The easiest way to split metrics into segments is by using quartiles.\n",
        "1. This gives us a starting point for the detailed analysis.\n",
        "2.  segments are easy to understand and explain.\n"
      ]
    },
    {
      "cell_type": "code",
      "metadata": {
        "id": "L2GhUKvCxDmB",
        "colab_type": "code",
        "colab": {}
      },
      "source": [
        "quantiles = rfmTable.quantile(q=[0.25,0.5,0.75])\n",
        "quantiles = quantiles.to_dict()"
      ],
      "execution_count": 0,
      "outputs": []
    },
    {
      "cell_type": "code",
      "metadata": {
        "id": "lZ6O5qJQxJHC",
        "colab_type": "code",
        "colab": {
          "base_uri": "https://localhost:8080/",
          "height": 98
        },
        "outputId": "8cc6829c-76cd-4a6b-a128-4a2fba80aa93"
      },
      "source": [
        "quantiles"
      ],
      "execution_count": 21,
      "outputs": [
        {
          "output_type": "execute_result",
          "data": {
            "text/plain": [
              "{'frequency': {0.25: 17.0, 0.5: 41.0, 0.75: 99.0},\n",
              " 'monetary_value': {0.25: 300.03999999999996,\n",
              "  0.5: 651.8199999999999,\n",
              "  0.75: 1575.89},\n",
              " 'recency': {0.25: 17.0, 0.5: 50.0, 0.75: 142.0}}"
            ]
          },
          "metadata": {
            "tags": []
          },
          "execution_count": 21
        }
      ]
    },
    {
      "cell_type": "markdown",
      "metadata": {
        "id": "PpJQDRAWQOII",
        "colab_type": "text"
      },
      "source": [
        "###Create a segmented RFM table"
      ]
    },
    {
      "cell_type": "code",
      "metadata": {
        "id": "JhN_AmnhXaK9",
        "colab_type": "code",
        "colab": {}
      },
      "source": [
        "segmented_rfm = rfmTable"
      ],
      "execution_count": 0,
      "outputs": []
    },
    {
      "cell_type": "markdown",
      "metadata": {
        "id": "oR5D6C1hxsYV",
        "colab_type": "text"
      },
      "source": [
        "The lowest recency, highest frequency and monetary amounts are our best customers."
      ]
    },
    {
      "cell_type": "code",
      "metadata": {
        "id": "n7aUI1kJxz5k",
        "colab_type": "code",
        "colab": {}
      },
      "source": [
        "def RScore(x,p,d):\n",
        "    if x <= d[p][0.25]:\n",
        "        return 1\n",
        "    elif x <= d[p][0.50]:\n",
        "        return 2\n",
        "    elif x <= d[p][0.75]: \n",
        "        return 3\n",
        "    else:\n",
        "        return 4\n",
        "    \n",
        "def FMScore(x,p,d):\n",
        "    if x <= d[p][0.25]:\n",
        "        return 4\n",
        "    elif x <= d[p][0.50]:\n",
        "        return 3\n",
        "    elif x <= d[p][0.75]: \n",
        "        return 2\n",
        "    else:\n",
        "        return 1"
      ],
      "execution_count": 0,
      "outputs": []
    },
    {
      "cell_type": "code",
      "metadata": {
        "id": "7c4hG9_xxz-j",
        "colab_type": "code",
        "colab": {}
      },
      "source": [
        "segmented_rfm['r_quartile'] = segmented_rfm['recency'].apply(RScore, args=('recency',quantiles,))\n",
        "segmented_rfm['f_quartile'] = segmented_rfm['frequency'].apply(FMScore, args=('frequency',quantiles,))\n",
        "segmented_rfm['m_quartile'] = segmented_rfm['monetary_value'].apply(FMScore, args=('monetary_value',quantiles,))"
      ],
      "execution_count": 0,
      "outputs": []
    },
    {
      "cell_type": "code",
      "metadata": {
        "id": "whrVRvWFx0B_",
        "colab_type": "code",
        "colab": {
          "base_uri": "https://localhost:8080/",
          "height": 220
        },
        "outputId": "c851d6bc-7103-4b09-93aa-2a8f26b213ee"
      },
      "source": [
        "segmented_rfm.head()"
      ],
      "execution_count": 26,
      "outputs": [
        {
          "output_type": "execute_result",
          "data": {
            "text/html": [
              "<div>\n",
              "<style scoped>\n",
              "    .dataframe tbody tr th:only-of-type {\n",
              "        vertical-align: middle;\n",
              "    }\n",
              "\n",
              "    .dataframe tbody tr th {\n",
              "        vertical-align: top;\n",
              "    }\n",
              "\n",
              "    .dataframe thead th {\n",
              "        text-align: right;\n",
              "    }\n",
              "</style>\n",
              "<table border=\"1\" class=\"dataframe\">\n",
              "  <thead>\n",
              "    <tr style=\"text-align: right;\">\n",
              "      <th></th>\n",
              "      <th>recency</th>\n",
              "      <th>frequency</th>\n",
              "      <th>monetary_value</th>\n",
              "      <th>r_quartile</th>\n",
              "      <th>f_quartile</th>\n",
              "      <th>m_quartile</th>\n",
              "    </tr>\n",
              "    <tr>\n",
              "      <th>CustomerID</th>\n",
              "      <th></th>\n",
              "      <th></th>\n",
              "      <th></th>\n",
              "      <th></th>\n",
              "      <th></th>\n",
              "      <th></th>\n",
              "    </tr>\n",
              "  </thead>\n",
              "  <tbody>\n",
              "    <tr>\n",
              "      <th>12346.0</th>\n",
              "      <td>325</td>\n",
              "      <td>1</td>\n",
              "      <td>77183.60</td>\n",
              "      <td>4</td>\n",
              "      <td>4</td>\n",
              "      <td>1</td>\n",
              "    </tr>\n",
              "    <tr>\n",
              "      <th>12747.0</th>\n",
              "      <td>2</td>\n",
              "      <td>103</td>\n",
              "      <td>4196.01</td>\n",
              "      <td>1</td>\n",
              "      <td>1</td>\n",
              "      <td>1</td>\n",
              "    </tr>\n",
              "    <tr>\n",
              "      <th>12748.0</th>\n",
              "      <td>0</td>\n",
              "      <td>4596</td>\n",
              "      <td>33719.73</td>\n",
              "      <td>1</td>\n",
              "      <td>1</td>\n",
              "      <td>1</td>\n",
              "    </tr>\n",
              "    <tr>\n",
              "      <th>12749.0</th>\n",
              "      <td>3</td>\n",
              "      <td>199</td>\n",
              "      <td>4090.88</td>\n",
              "      <td>1</td>\n",
              "      <td>1</td>\n",
              "      <td>1</td>\n",
              "    </tr>\n",
              "    <tr>\n",
              "      <th>12820.0</th>\n",
              "      <td>3</td>\n",
              "      <td>59</td>\n",
              "      <td>942.34</td>\n",
              "      <td>1</td>\n",
              "      <td>2</td>\n",
              "      <td>2</td>\n",
              "    </tr>\n",
              "  </tbody>\n",
              "</table>\n",
              "</div>"
            ],
            "text/plain": [
              "            recency  frequency  ...  f_quartile  m_quartile\n",
              "CustomerID                      ...                        \n",
              "12346.0         325          1  ...           4           1\n",
              "12747.0           2        103  ...           1           1\n",
              "12748.0           0       4596  ...           1           1\n",
              "12749.0           3        199  ...           1           1\n",
              "12820.0           3         59  ...           2           2\n",
              "\n",
              "[5 rows x 6 columns]"
            ]
          },
          "metadata": {
            "tags": []
          },
          "execution_count": 26
        }
      ]
    },
    {
      "cell_type": "markdown",
      "metadata": {
        "id": "SWV-aRe5zCEd",
        "colab_type": "text"
      },
      "source": [
        "### Add a new column to combine RFM score: 111 is the highest score "
      ]
    },
    {
      "cell_type": "code",
      "metadata": {
        "id": "EavhBWtUyy8Y",
        "colab_type": "code",
        "colab": {
          "base_uri": "https://localhost:8080/",
          "height": 220
        },
        "outputId": "542b44ab-2991-46e1-b6a6-9c6b67dee0e3"
      },
      "source": [
        "segmented_rfm['RFMScore'] = segmented_rfm.r_quartile.map(str) + segmented_rfm.f_quartile.map(str) + segmented_rfm.m_quartile.map(str)\n",
        "segmented_rfm.head()"
      ],
      "execution_count": 28,
      "outputs": [
        {
          "output_type": "execute_result",
          "data": {
            "text/html": [
              "<div>\n",
              "<style scoped>\n",
              "    .dataframe tbody tr th:only-of-type {\n",
              "        vertical-align: middle;\n",
              "    }\n",
              "\n",
              "    .dataframe tbody tr th {\n",
              "        vertical-align: top;\n",
              "    }\n",
              "\n",
              "    .dataframe thead th {\n",
              "        text-align: right;\n",
              "    }\n",
              "</style>\n",
              "<table border=\"1\" class=\"dataframe\">\n",
              "  <thead>\n",
              "    <tr style=\"text-align: right;\">\n",
              "      <th></th>\n",
              "      <th>recency</th>\n",
              "      <th>frequency</th>\n",
              "      <th>monetary_value</th>\n",
              "      <th>r_quartile</th>\n",
              "      <th>f_quartile</th>\n",
              "      <th>m_quartile</th>\n",
              "      <th>RFMScore</th>\n",
              "    </tr>\n",
              "    <tr>\n",
              "      <th>CustomerID</th>\n",
              "      <th></th>\n",
              "      <th></th>\n",
              "      <th></th>\n",
              "      <th></th>\n",
              "      <th></th>\n",
              "      <th></th>\n",
              "      <th></th>\n",
              "    </tr>\n",
              "  </thead>\n",
              "  <tbody>\n",
              "    <tr>\n",
              "      <th>12346.0</th>\n",
              "      <td>325</td>\n",
              "      <td>1</td>\n",
              "      <td>77183.60</td>\n",
              "      <td>4</td>\n",
              "      <td>4</td>\n",
              "      <td>1</td>\n",
              "      <td>441</td>\n",
              "    </tr>\n",
              "    <tr>\n",
              "      <th>12747.0</th>\n",
              "      <td>2</td>\n",
              "      <td>103</td>\n",
              "      <td>4196.01</td>\n",
              "      <td>1</td>\n",
              "      <td>1</td>\n",
              "      <td>1</td>\n",
              "      <td>111</td>\n",
              "    </tr>\n",
              "    <tr>\n",
              "      <th>12748.0</th>\n",
              "      <td>0</td>\n",
              "      <td>4596</td>\n",
              "      <td>33719.73</td>\n",
              "      <td>1</td>\n",
              "      <td>1</td>\n",
              "      <td>1</td>\n",
              "      <td>111</td>\n",
              "    </tr>\n",
              "    <tr>\n",
              "      <th>12749.0</th>\n",
              "      <td>3</td>\n",
              "      <td>199</td>\n",
              "      <td>4090.88</td>\n",
              "      <td>1</td>\n",
              "      <td>1</td>\n",
              "      <td>1</td>\n",
              "      <td>111</td>\n",
              "    </tr>\n",
              "    <tr>\n",
              "      <th>12820.0</th>\n",
              "      <td>3</td>\n",
              "      <td>59</td>\n",
              "      <td>942.34</td>\n",
              "      <td>1</td>\n",
              "      <td>2</td>\n",
              "      <td>2</td>\n",
              "      <td>122</td>\n",
              "    </tr>\n",
              "  </tbody>\n",
              "</table>\n",
              "</div>"
            ],
            "text/plain": [
              "            recency  frequency  monetary_value  ...  f_quartile  m_quartile  RFMScore\n",
              "CustomerID                                      ...                                  \n",
              "12346.0         325          1        77183.60  ...           4           1       441\n",
              "12747.0           2        103         4196.01  ...           1           1       111\n",
              "12748.0           0       4596        33719.73  ...           1           1       111\n",
              "12749.0           3        199         4090.88  ...           1           1       111\n",
              "12820.0           3         59          942.34  ...           2           2       122\n",
              "\n",
              "[5 rows x 7 columns]"
            ]
          },
          "metadata": {
            "tags": []
          },
          "execution_count": 28
        }
      ]
    },
    {
      "cell_type": "markdown",
      "metadata": {
        "id": "1m3vpVkpzkbg",
        "colab_type": "text"
      },
      "source": [
        "##**Top 10 Customer**"
      ]
    },
    {
      "cell_type": "code",
      "metadata": {
        "id": "odPcApsqyy_0",
        "colab_type": "code",
        "colab": {
          "base_uri": "https://localhost:8080/",
          "height": 363
        },
        "outputId": "7fee450c-3717-4f12-9811-4c859e1676e2"
      },
      "source": [
        "segmented_rfm[segmented_rfm['RFMScore']=='111'].sort_values('monetary_value', ascending=False).head(10)"
      ],
      "execution_count": 29,
      "outputs": [
        {
          "output_type": "execute_result",
          "data": {
            "text/html": [
              "<div>\n",
              "<style scoped>\n",
              "    .dataframe tbody tr th:only-of-type {\n",
              "        vertical-align: middle;\n",
              "    }\n",
              "\n",
              "    .dataframe tbody tr th {\n",
              "        vertical-align: top;\n",
              "    }\n",
              "\n",
              "    .dataframe thead th {\n",
              "        text-align: right;\n",
              "    }\n",
              "</style>\n",
              "<table border=\"1\" class=\"dataframe\">\n",
              "  <thead>\n",
              "    <tr style=\"text-align: right;\">\n",
              "      <th></th>\n",
              "      <th>recency</th>\n",
              "      <th>frequency</th>\n",
              "      <th>monetary_value</th>\n",
              "      <th>r_quartile</th>\n",
              "      <th>f_quartile</th>\n",
              "      <th>m_quartile</th>\n",
              "      <th>RFMScore</th>\n",
              "    </tr>\n",
              "    <tr>\n",
              "      <th>CustomerID</th>\n",
              "      <th></th>\n",
              "      <th></th>\n",
              "      <th></th>\n",
              "      <th></th>\n",
              "      <th></th>\n",
              "      <th></th>\n",
              "      <th></th>\n",
              "    </tr>\n",
              "  </thead>\n",
              "  <tbody>\n",
              "    <tr>\n",
              "      <th>18102.0</th>\n",
              "      <td>0</td>\n",
              "      <td>431</td>\n",
              "      <td>259657.30</td>\n",
              "      <td>1</td>\n",
              "      <td>1</td>\n",
              "      <td>1</td>\n",
              "      <td>111</td>\n",
              "    </tr>\n",
              "    <tr>\n",
              "      <th>17450.0</th>\n",
              "      <td>8</td>\n",
              "      <td>337</td>\n",
              "      <td>194550.79</td>\n",
              "      <td>1</td>\n",
              "      <td>1</td>\n",
              "      <td>1</td>\n",
              "      <td>111</td>\n",
              "    </tr>\n",
              "    <tr>\n",
              "      <th>17511.0</th>\n",
              "      <td>2</td>\n",
              "      <td>963</td>\n",
              "      <td>91062.38</td>\n",
              "      <td>1</td>\n",
              "      <td>1</td>\n",
              "      <td>1</td>\n",
              "      <td>111</td>\n",
              "    </tr>\n",
              "    <tr>\n",
              "      <th>16684.0</th>\n",
              "      <td>4</td>\n",
              "      <td>277</td>\n",
              "      <td>66653.56</td>\n",
              "      <td>1</td>\n",
              "      <td>1</td>\n",
              "      <td>1</td>\n",
              "      <td>111</td>\n",
              "    </tr>\n",
              "    <tr>\n",
              "      <th>14096.0</th>\n",
              "      <td>4</td>\n",
              "      <td>5111</td>\n",
              "      <td>65164.79</td>\n",
              "      <td>1</td>\n",
              "      <td>1</td>\n",
              "      <td>1</td>\n",
              "      <td>111</td>\n",
              "    </tr>\n",
              "    <tr>\n",
              "      <th>13694.0</th>\n",
              "      <td>3</td>\n",
              "      <td>568</td>\n",
              "      <td>65039.62</td>\n",
              "      <td>1</td>\n",
              "      <td>1</td>\n",
              "      <td>1</td>\n",
              "      <td>111</td>\n",
              "    </tr>\n",
              "    <tr>\n",
              "      <th>15311.0</th>\n",
              "      <td>0</td>\n",
              "      <td>2379</td>\n",
              "      <td>60767.90</td>\n",
              "      <td>1</td>\n",
              "      <td>1</td>\n",
              "      <td>1</td>\n",
              "      <td>111</td>\n",
              "    </tr>\n",
              "    <tr>\n",
              "      <th>13089.0</th>\n",
              "      <td>2</td>\n",
              "      <td>1818</td>\n",
              "      <td>58825.83</td>\n",
              "      <td>1</td>\n",
              "      <td>1</td>\n",
              "      <td>1</td>\n",
              "      <td>111</td>\n",
              "    </tr>\n",
              "    <tr>\n",
              "      <th>15769.0</th>\n",
              "      <td>7</td>\n",
              "      <td>130</td>\n",
              "      <td>56252.72</td>\n",
              "      <td>1</td>\n",
              "      <td>1</td>\n",
              "      <td>1</td>\n",
              "      <td>111</td>\n",
              "    </tr>\n",
              "    <tr>\n",
              "      <th>15061.0</th>\n",
              "      <td>3</td>\n",
              "      <td>403</td>\n",
              "      <td>54534.14</td>\n",
              "      <td>1</td>\n",
              "      <td>1</td>\n",
              "      <td>1</td>\n",
              "      <td>111</td>\n",
              "    </tr>\n",
              "  </tbody>\n",
              "</table>\n",
              "</div>"
            ],
            "text/plain": [
              "            recency  frequency  monetary_value  ...  f_quartile  m_quartile  RFMScore\n",
              "CustomerID                                      ...                                  \n",
              "18102.0           0        431       259657.30  ...           1           1       111\n",
              "17450.0           8        337       194550.79  ...           1           1       111\n",
              "17511.0           2        963        91062.38  ...           1           1       111\n",
              "16684.0           4        277        66653.56  ...           1           1       111\n",
              "14096.0           4       5111        65164.79  ...           1           1       111\n",
              "13694.0           3        568        65039.62  ...           1           1       111\n",
              "15311.0           0       2379        60767.90  ...           1           1       111\n",
              "13089.0           2       1818        58825.83  ...           1           1       111\n",
              "15769.0           7        130        56252.72  ...           1           1       111\n",
              "15061.0           3        403        54534.14  ...           1           1       111\n",
              "\n",
              "[10 rows x 7 columns]"
            ]
          },
          "metadata": {
            "tags": []
          },
          "execution_count": 29
        }
      ]
    }
  ]
}